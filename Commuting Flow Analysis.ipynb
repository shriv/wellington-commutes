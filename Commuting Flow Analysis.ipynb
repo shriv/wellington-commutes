{
 "cells": [
  {
   "cell_type": "markdown",
   "metadata": {},
   "source": [
    "# Introduction \n",
    "Following through [this excellent tutorial](https://rpubs.com/adam_dennett/257231) by Adam Dennett on geospatial flow modelling. The focus of this notebook is:\n",
    "- Getting and cleaning data on commuter flows from StatsNZ\n",
    "- Plotting the flow data onto the territorial authorities map for Wellington\n",
    "- Findng the data equivalents used in the RPubs analysis for Wellington \n",
    "- Presenting and understanding the basic unconstrained model of spatial flows"
   ]
  },
  {
   "cell_type": "markdown",
   "metadata": {},
   "source": [
    "# Package installation\n",
    "I'm working from a Ubuntu 18.04 VM on Windows. I needed to install a bunch of additional linux packages for the necessary R libraries and their dependencies:\n",
    "- sudo apt  install protobuf-compiler\n",
    "- sudo apt install libprotobuf-dev\n",
    "- sudo apt install libv8-3.14-dev\n",
    "- sudo apt-get install libjq-dev\n",
    "- sudo apt install libudunits2-dev\n",
    "- sudo apt install libgdal-dev\n",
    "- sudo apt install libgdal1-dev (though I'm not 100% sure of this one)\n"
   ]
  },
  {
   "cell_type": "code",
   "execution_count": 25,
   "metadata": {},
   "outputs": [
    {
     "name": "stderr",
     "output_type": "stream",
     "text": [
      "Linking to GEOS 3.6.2, GDAL 2.2.3, proj.4 4.9.3\n"
     ]
    }
   ],
   "source": [
    "library(sp)\n",
    "library(MASS)\n",
    "library(reshape2)\n",
    "library(geojsonio)\n",
    "library(rgdal)\n",
    "library(downloader)\n",
    "library(maptools)\n",
    "library(tmap)\n",
    "library(dplyr)\n",
    "library(broom) \n",
    "library(stplanr)\n",
    "library(ggplot2)\n",
    "library(leaflet)\n",
    "library(sf)\n",
    "\n",
    "# Notebook configurations\n",
    "options(warn=-1) # Turn on Warnings with warn=0"
   ]
  },
  {
   "cell_type": "markdown",
   "metadata": {},
   "source": [
    "# Data\n",
    "There 4 key data sources for spatial flow modelling: \n",
    "- Geography shape file of the region\n",
    "- Flow data\n",
    "- Destination \"attractiveness\" features\n",
    "- Origin \"migration propensity\" features\n",
    "\n",
    "All 4 data sources have to be aggregated at the same spatial unit level. For this example, I've chosen to go with \"statistical area 2\" spatial unit. This is a mid-level coarse graining of the Wellington TA that loosely corresponds to suburbs. \n",
    "\n",
    "Data | Source \n",
    "--- | --- \n",
    "Geography shape file of the region | Stats NZ\n",
    "Flow data | Stats NZ Commuter Flows visualisation\n",
    "Destination \"attractiveness\" features | Mean personal income calculated from # people in income brackets\n",
    "Origin \"migration propensity\" features | Population\n",
    "\n",
    "Some notes: \n",
    "- Mean income is calculated from the coarse income brackets using the mid-bracket value. Because of the bracketing, it's only possible to calculate the mean, not the preferred median. I don't feel that this is a robust calculation since (1) the larger income brackets are much wider, and (2) the very high income bracket is not bounded - it's $150,000 and above.  \n",
    "- Population value to use? As a simple approximating, we can use the number of commuting adults as the \"population\" - though it's the working, commuting, adult population of the area. "
   ]
  },
  {
   "cell_type": "markdown",
   "metadata": {},
   "source": [
    "## Getting flow data\n",
    "Commuter flows from the NZ census are not available in a handy tabular format. But StatsNZ have provided a [Beta version of a commuter flow interactive map](https://www.stats.govt.nz/tools/commuter-view). I manually downloaded the flow data for each of the wards within the Wellington City territorial authority. The data is limited because the Wellington City TA doesn't capture the Hutt Valley or Porirua - two key suburban areas of the Greater Wellington region. Once I have a basic version of the model running, I'll extract the complete dataset. "
   ]
  },
  {
   "cell_type": "code",
   "execution_count": 5,
   "metadata": {},
   "outputs": [],
   "source": [
    "df <- read.csv(\"data/commuter_flow_wellington_city.csv\")\n",
    "colnames(df) <- c('to_code', 'to_name', 'flow_type', 'year_2006', 'year_2013', 'from_code', 'from_name')\n",
    "df$year_2006 <- as.numeric(as.character(df$year_2006));\n",
    "df$year_2013 <- as.numeric(as.character(df$year_2013));"
   ]
  },
  {
   "cell_type": "code",
   "execution_count": 6,
   "metadata": {},
   "outputs": [
    {
     "data": {
      "text/html": [
       "<table>\n",
       "<thead><tr><th scope=col>to_code</th><th scope=col>to_name</th><th scope=col>flow_type</th><th scope=col>year_2006</th><th scope=col>year_2013</th><th scope=col>from_code</th><th scope=col>from_name</th></tr></thead>\n",
       "<tbody>\n",
       "\t<tr><td>576500                 </td><td>Adelaide               </td><td>in                     </td><td> 0                     </td><td> 0                     </td><td>576500                 </td><td>Adelaide               </td></tr>\n",
       "\t<tr><td>573200                 </td><td>Aro Street-Nairn Street</td><td>in                     </td><td>42                     </td><td>33                     </td><td>576500                 </td><td>Adelaide               </td></tr>\n",
       "\t<tr><td>574401                 </td><td>Awarua                 </td><td>in                     </td><td>24                     </td><td>36                     </td><td>576500                 </td><td>Adelaide               </td></tr>\n",
       "\t<tr><td>576302                 </td><td>Berhampore East        </td><td>in                     </td><td>30                     </td><td>39                     </td><td>576500                 </td><td>Adelaide               </td></tr>\n",
       "\t<tr><td>576200                 </td><td>Berhampore West        </td><td>in                     </td><td>60                     </td><td>84                     </td><td>576500                 </td><td>Adelaide               </td></tr>\n",
       "\t<tr><td>575600                 </td><td>Brooklyn               </td><td>in                     </td><td>45                     </td><td>81                     </td><td>576500                 </td><td>Adelaide               </td></tr>\n",
       "</tbody>\n",
       "</table>\n"
      ],
      "text/latex": [
       "\\begin{tabular}{r|lllllll}\n",
       " to\\_code & to\\_name & flow\\_type & year\\_2006 & year\\_2013 & from\\_code & from\\_name\\\\\n",
       "\\hline\n",
       "\t 576500                  & Adelaide                & in                      &  0                      &  0                      & 576500                  & Adelaide               \\\\\n",
       "\t 573200                  & Aro Street-Nairn Street & in                      & 42                      & 33                      & 576500                  & Adelaide               \\\\\n",
       "\t 574401                  & Awarua                  & in                      & 24                      & 36                      & 576500                  & Adelaide               \\\\\n",
       "\t 576302                  & Berhampore East         & in                      & 30                      & 39                      & 576500                  & Adelaide               \\\\\n",
       "\t 576200                  & Berhampore West         & in                      & 60                      & 84                      & 576500                  & Adelaide               \\\\\n",
       "\t 575600                  & Brooklyn                & in                      & 45                      & 81                      & 576500                  & Adelaide               \\\\\n",
       "\\end{tabular}\n"
      ],
      "text/markdown": [
       "\n",
       "to_code | to_name | flow_type | year_2006 | year_2013 | from_code | from_name | \n",
       "|---|---|---|---|---|---|\n",
       "| 576500                  | Adelaide                | in                      |  0                      |  0                      | 576500                  | Adelaide                | \n",
       "| 573200                  | Aro Street-Nairn Street | in                      | 42                      | 33                      | 576500                  | Adelaide                | \n",
       "| 574401                  | Awarua                  | in                      | 24                      | 36                      | 576500                  | Adelaide                | \n",
       "| 576302                  | Berhampore East         | in                      | 30                      | 39                      | 576500                  | Adelaide                | \n",
       "| 576200                  | Berhampore West         | in                      | 60                      | 84                      | 576500                  | Adelaide                | \n",
       "| 575600                  | Brooklyn                | in                      | 45                      | 81                      | 576500                  | Adelaide                | \n",
       "\n",
       "\n"
      ],
      "text/plain": [
       "  to_code to_name                 flow_type year_2006 year_2013 from_code\n",
       "1 576500  Adelaide                in         0         0        576500   \n",
       "2 573200  Aro Street-Nairn Street in        42        33        576500   \n",
       "3 574401  Awarua                  in        24        36        576500   \n",
       "4 576302  Berhampore East         in        30        39        576500   \n",
       "5 576200  Berhampore West         in        60        84        576500   \n",
       "6 575600  Brooklyn                in        45        81        576500   \n",
       "  from_name\n",
       "1 Adelaide \n",
       "2 Adelaide \n",
       "3 Adelaide \n",
       "4 Adelaide \n",
       "5 Adelaide \n",
       "6 Adelaide "
      ]
     },
     "metadata": {},
     "output_type": "display_data"
    }
   ],
   "source": [
    "df_clean <- df %>% filter(to_name %in% from_name) %>% filter(flow_type == 'in')\n",
    "df_clean %>% head()"
   ]
  },
  {
   "cell_type": "code",
   "execution_count": 7,
   "metadata": {},
   "outputs": [],
   "source": [
    "df_matrix <- dcast(df_clean,\n",
    "                   from_name ~ to_name,\n",
    "                   sum,\n",
    "                   value.var = \"year_2013\",\n",
    "                   margins=c(\"from_name\", \"to_name\"))\n"
   ]
  },
  {
   "cell_type": "code",
   "execution_count": 8,
   "metadata": {},
   "outputs": [
    {
     "data": {
      "text/html": [
       "<table>\n",
       "<thead><tr><th scope=col>from_name</th><th scope=col>Adelaide</th><th scope=col>Aro Street-Nairn Street</th><th scope=col>Awarua</th><th scope=col>Berhampore East</th><th scope=col>Berhampore West</th><th scope=col>Brooklyn</th><th scope=col>Brooklyn South</th><th scope=col>Churton Park North</th><th scope=col>Churton Park South</th><th scope=col>⋯</th><th scope=col>Tawa South</th><th scope=col>Te Kainga</th><th scope=col>Thorndon-Tinakori Road</th><th scope=col>Vogeltown</th><th scope=col>Vogeltown West</th><th scope=col>Wadestown</th><th scope=col>Willis Street-Cambridge Terrace</th><th scope=col>Wilton</th><th scope=col>Woodridge</th><th scope=col>(all)</th></tr></thead>\n",
       "<tbody>\n",
       "\t<tr><td>Adelaide               </td><td>0                      </td><td>33                     </td><td>36                     </td><td>39                     </td><td>84                     </td><td>81                     </td><td>21                     </td><td>27                     </td><td>51                     </td><td>⋯                      </td><td>30                     </td><td>45                     </td><td>33                     </td><td>36                     </td><td>12                     </td><td>45                     </td><td>84                     </td><td>27                     </td><td>24                     </td><td>3300                   </td></tr>\n",
       "\t<tr><td>Aro Street-Nairn Street</td><td>0                      </td><td> 0                     </td><td> 0                     </td><td> 0                     </td><td> 0                     </td><td>12                     </td><td> 0                     </td><td> 0                     </td><td> 0                     </td><td>⋯                      </td><td> 0                     </td><td> 6                     </td><td> 0                     </td><td> 0                     </td><td> 0                     </td><td> 0                     </td><td> 0                     </td><td> 0                     </td><td> 0                     </td><td>  69                   </td></tr>\n",
       "\t<tr><td>Awarua                 </td><td>0                      </td><td> 0                     </td><td> 0                     </td><td> 0                     </td><td> 0                     </td><td> 0                     </td><td> 0                     </td><td> 0                     </td><td> 0                     </td><td>⋯                      </td><td> 0                     </td><td> 6                     </td><td> 0                     </td><td> 0                     </td><td> 0                     </td><td> 0                     </td><td> 0                     </td><td> 0                     </td><td> 0                     </td><td>   6                   </td></tr>\n",
       "\t<tr><td>Berhampore West        </td><td>0                      </td><td> 0                     </td><td> 0                     </td><td> 9                     </td><td> 0                     </td><td> 0                     </td><td> 0                     </td><td> 0                     </td><td> 0                     </td><td>⋯                      </td><td> 0                     </td><td> 0                     </td><td> 0                     </td><td> 0                     </td><td> 0                     </td><td> 0                     </td><td> 6                     </td><td> 0                     </td><td> 0                     </td><td> 129                   </td></tr>\n",
       "\t<tr><td>Brooklyn               </td><td>0                      </td><td> 0                     </td><td> 0                     </td><td> 0                     </td><td> 0                     </td><td> 0                     </td><td>12                     </td><td> 0                     </td><td> 0                     </td><td>⋯                      </td><td> 0                     </td><td> 0                     </td><td> 0                     </td><td> 0                     </td><td> 9                     </td><td> 0                     </td><td> 6                     </td><td> 0                     </td><td> 0                     </td><td>  81                   </td></tr>\n",
       "\t<tr><td>Churton Park North     </td><td>0                      </td><td> 0                     </td><td> 0                     </td><td> 0                     </td><td> 0                     </td><td> 0                     </td><td> 0                     </td><td> 0                     </td><td>24                     </td><td>⋯                      </td><td> 0                     </td><td> 0                     </td><td> 0                     </td><td> 0                     </td><td> 0                     </td><td> 0                     </td><td> 0                     </td><td> 0                     </td><td> 0                     </td><td>  48                   </td></tr>\n",
       "</tbody>\n",
       "</table>\n"
      ],
      "text/latex": [
       "\\begin{tabular}{r|llllllllllllllllllllllllllllllllllllllllllllllllllllllllllllllllllllllllllll}\n",
       " from\\_name & Adelaide & Aro Street-Nairn Street & Awarua & Berhampore East & Berhampore West & Brooklyn & Brooklyn South & Churton Park North & Churton Park South & ⋯ & Tawa South & Te Kainga & Thorndon-Tinakori Road & Vogeltown & Vogeltown West & Wadestown & Willis Street-Cambridge Terrace & Wilton & Woodridge & (all)\\\\\n",
       "\\hline\n",
       "\t Adelaide                & 0                       & 33                      & 36                      & 39                      & 84                      & 81                      & 21                      & 27                      & 51                      & ⋯                       & 30                      & 45                      & 33                      & 36                      & 12                      & 45                      & 84                      & 27                      & 24                      & 3300                   \\\\\n",
       "\t Aro Street-Nairn Street & 0                       &  0                      &  0                      &  0                      &  0                      & 12                      &  0                      &  0                      &  0                      & ⋯                       &  0                      &  6                      &  0                      &  0                      &  0                      &  0                      &  0                      &  0                      &  0                      &   69                   \\\\\n",
       "\t Awarua                  & 0                       &  0                      &  0                      &  0                      &  0                      &  0                      &  0                      &  0                      &  0                      & ⋯                       &  0                      &  6                      &  0                      &  0                      &  0                      &  0                      &  0                      &  0                      &  0                      &    6                   \\\\\n",
       "\t Berhampore West         & 0                       &  0                      &  0                      &  9                      &  0                      &  0                      &  0                      &  0                      &  0                      & ⋯                       &  0                      &  0                      &  0                      &  0                      &  0                      &  0                      &  6                      &  0                      &  0                      &  129                   \\\\\n",
       "\t Brooklyn                & 0                       &  0                      &  0                      &  0                      &  0                      &  0                      & 12                      &  0                      &  0                      & ⋯                       &  0                      &  0                      &  0                      &  0                      &  9                      &  0                      &  6                      &  0                      &  0                      &   81                   \\\\\n",
       "\t Churton Park North      & 0                       &  0                      &  0                      &  0                      &  0                      &  0                      &  0                      &  0                      & 24                      & ⋯                       &  0                      &  0                      &  0                      &  0                      &  0                      &  0                      &  0                      &  0                      &  0                      &   48                   \\\\\n",
       "\\end{tabular}\n"
      ],
      "text/markdown": [
       "\n",
       "from_name | Adelaide | Aro Street-Nairn Street | Awarua | Berhampore East | Berhampore West | Brooklyn | Brooklyn South | Churton Park North | Churton Park South | ⋯ | Tawa South | Te Kainga | Thorndon-Tinakori Road | Vogeltown | Vogeltown West | Wadestown | Willis Street-Cambridge Terrace | Wilton | Woodridge | (all) | \n",
       "|---|---|---|---|---|---|\n",
       "| Adelaide                | 0                       | 33                      | 36                      | 39                      | 84                      | 81                      | 21                      | 27                      | 51                      | ⋯                       | 30                      | 45                      | 33                      | 36                      | 12                      | 45                      | 84                      | 27                      | 24                      | 3300                    | \n",
       "| Aro Street-Nairn Street | 0                       |  0                      |  0                      |  0                      |  0                      | 12                      |  0                      |  0                      |  0                      | ⋯                       |  0                      |  6                      |  0                      |  0                      |  0                      |  0                      |  0                      |  0                      |  0                      |   69                    | \n",
       "| Awarua                  | 0                       |  0                      |  0                      |  0                      |  0                      |  0                      |  0                      |  0                      |  0                      | ⋯                       |  0                      |  6                      |  0                      |  0                      |  0                      |  0                      |  0                      |  0                      |  0                      |    6                    | \n",
       "| Berhampore West         | 0                       |  0                      |  0                      |  9                      |  0                      |  0                      |  0                      |  0                      |  0                      | ⋯                       |  0                      |  0                      |  0                      |  0                      |  0                      |  0                      |  6                      |  0                      |  0                      |  129                    | \n",
       "| Brooklyn                | 0                       |  0                      |  0                      |  0                      |  0                      |  0                      | 12                      |  0                      |  0                      | ⋯                       |  0                      |  0                      |  0                      |  0                      |  9                      |  0                      |  6                      |  0                      |  0                      |   81                    | \n",
       "| Churton Park North      | 0                       |  0                      |  0                      |  0                      |  0                      |  0                      |  0                      |  0                      | 24                      | ⋯                       |  0                      |  0                      |  0                      |  0                      |  0                      |  0                      |  0                      |  0                      |  0                      |   48                    | \n",
       "\n",
       "\n"
      ],
      "text/plain": [
       "  from_name               Adelaide Aro Street-Nairn Street Awarua\n",
       "1 Adelaide                0        33                      36    \n",
       "2 Aro Street-Nairn Street 0         0                       0    \n",
       "3 Awarua                  0         0                       0    \n",
       "4 Berhampore West         0         0                       0    \n",
       "5 Brooklyn                0         0                       0    \n",
       "6 Churton Park North      0         0                       0    \n",
       "  Berhampore East Berhampore West Brooklyn Brooklyn South Churton Park North\n",
       "1 39              84              81       21             27                \n",
       "2  0               0              12        0              0                \n",
       "3  0               0               0        0              0                \n",
       "4  9               0               0        0              0                \n",
       "5  0               0               0       12              0                \n",
       "6  0               0               0        0              0                \n",
       "  Churton Park South ⋯ Tawa South Te Kainga Thorndon-Tinakori Road Vogeltown\n",
       "1 51                 ⋯ 30         45        33                     36       \n",
       "2  0                 ⋯  0          6         0                      0       \n",
       "3  0                 ⋯  0          6         0                      0       \n",
       "4  0                 ⋯  0          0         0                      0       \n",
       "5  0                 ⋯  0          0         0                      0       \n",
       "6 24                 ⋯  0          0         0                      0       \n",
       "  Vogeltown West Wadestown Willis Street-Cambridge Terrace Wilton Woodridge\n",
       "1 12             45        84                              27     24       \n",
       "2  0              0         0                               0      0       \n",
       "3  0              0         0                               0      0       \n",
       "4  0              0         6                               0      0       \n",
       "5  9              0         6                               0      0       \n",
       "6  0              0         0                               0      0       \n",
       "  (all)\n",
       "1 3300 \n",
       "2   69 \n",
       "3    6 \n",
       "4  129 \n",
       "5   81 \n",
       "6   48 "
      ]
     },
     "metadata": {},
     "output_type": "display_data"
    }
   ],
   "source": [
    "df_matrix %>% head()"
   ]
  },
  {
   "cell_type": "markdown",
   "metadata": {},
   "source": [
    "## Spatial area features"
   ]
  },
  {
   "cell_type": "code",
   "execution_count": 130,
   "metadata": {},
   "outputs": [],
   "source": [
    "income_df <- read.csv(\"data//wellington-city-ta-personal-income-bracket.csv\", sep=';', strip.white=T)\n",
    "income_df <- tibble::rownames_to_column(income_df)"
   ]
  },
  {
   "cell_type": "code",
   "execution_count": 131,
   "metadata": {},
   "outputs": [
    {
     "data": {
      "text/html": [
       "<table>\n",
       "<thead><tr><th scope=col>rowname</th><th scope=col>ward</th><th scope=col>Total.people..total.personal.income</th><th scope=col>Loss</th><th scope=col>Zero.income</th><th scope=col>X.1..5.000</th><th scope=col>X.5.001..10.000</th><th scope=col>X.10.001..15.000</th><th scope=col>X.15.001..20.000</th><th scope=col>X.20.001..25.000</th><th scope=col>⋯</th><th scope=col>X.30.001..35.000</th><th scope=col>X.35.001..40.000</th><th scope=col>X.40.001..50.000</th><th scope=col>X.50.001..60.000</th><th scope=col>X.60.001..70.000</th><th scope=col>X.70.001..100.000</th><th scope=col>X.100.001..150.000</th><th scope=col>X.150.001.or.more</th><th scope=col>Total.people.stated</th><th scope=col>Not.stated</th></tr></thead>\n",
       "<tbody>\n",
       "\t<tr><td>Tawa South            </td><td>NA                    </td><td>2838                  </td><td>6                     </td><td>192                   </td><td>192                   </td><td>132                   </td><td>183                   </td><td>195                   </td><td>180                   </td><td>⋯                     </td><td>120                   </td><td>111                   </td><td>237                   </td><td>216                   </td><td>153                   </td><td>333                   </td><td>216                   </td><td>90                    </td><td>2676                  </td><td>159                   </td></tr>\n",
       "\t<tr><td>Tawa Central          </td><td>NA                    </td><td>3444                  </td><td>9                     </td><td>282                   </td><td>207                   </td><td>150                   </td><td>213                   </td><td>261                   </td><td>222                   </td><td>⋯                     </td><td>165                   </td><td>174                   </td><td>321                   </td><td>267                   </td><td>219                   </td><td>372                   </td><td>156                   </td><td>42                    </td><td>3231                  </td><td>213                   </td></tr>\n",
       "\t<tr><td>Linden                </td><td>NA                    </td><td>3123                  </td><td>18                    </td><td>285                   </td><td>204                   </td><td>174                   </td><td>201                   </td><td>231                   </td><td>186                   </td><td>⋯                     </td><td>144                   </td><td>180                   </td><td>294                   </td><td>222                   </td><td>183                   </td><td>246                   </td><td>117                   </td><td>42                    </td><td>2883                  </td><td>240                   </td></tr>\n",
       "\t<tr><td>Greenacres            </td><td>NA                    </td><td>1239                  </td><td>0                     </td><td>102                   </td><td>75                    </td><td>60                    </td><td>63                    </td><td>66                    </td><td>63                    </td><td>⋯                     </td><td>45                    </td><td>48                    </td><td>111                   </td><td>105                   </td><td>75                    </td><td>177                   </td><td>84                    </td><td>39                    </td><td>1182                  </td><td>54                    </td></tr>\n",
       "\t<tr><td>Thorndon-Tinakori Road</td><td>NA                    </td><td>3804                  </td><td>12                    </td><td>141                   </td><td>162                   </td><td>156                   </td><td>195                   </td><td>195                   </td><td>153                   </td><td>⋯                     </td><td>135                   </td><td>165                   </td><td>369                   </td><td>348                   </td><td>267                   </td><td>522                   </td><td>312                   </td><td>255                   </td><td>3543                  </td><td>261                   </td></tr>\n",
       "\t<tr><td>Lambton               </td><td>NA                    </td><td>5451                  </td><td>24                    </td><td>405                   </td><td>762                   </td><td>573                   </td><td>420                   </td><td>258                   </td><td>216                   </td><td>⋯                     </td><td>171                   </td><td>195                   </td><td>387                   </td><td>339                   </td><td>222                   </td><td>420                   </td><td>282                   </td><td>159                   </td><td>4989                  </td><td>462                   </td></tr>\n",
       "</tbody>\n",
       "</table>\n"
      ],
      "text/latex": [
       "\\begin{tabular}{r|lllllllllllllllllllll}\n",
       " rowname & ward & Total.people..total.personal.income & Loss & Zero.income & X.1..5.000 & X.5.001..10.000 & X.10.001..15.000 & X.15.001..20.000 & X.20.001..25.000 & ⋯ & X.30.001..35.000 & X.35.001..40.000 & X.40.001..50.000 & X.50.001..60.000 & X.60.001..70.000 & X.70.001..100.000 & X.100.001..150.000 & X.150.001.or.more & Total.people.stated & Not.stated\\\\\n",
       "\\hline\n",
       "\t Tawa South             & NA                     & 2838                   & 6                      & 192                    & 192                    & 132                    & 183                    & 195                    & 180                    & ⋯                      & 120                    & 111                    & 237                    & 216                    & 153                    & 333                    & 216                    & 90                     & 2676                   & 159                   \\\\\n",
       "\t Tawa Central           & NA                     & 3444                   & 9                      & 282                    & 207                    & 150                    & 213                    & 261                    & 222                    & ⋯                      & 165                    & 174                    & 321                    & 267                    & 219                    & 372                    & 156                    & 42                     & 3231                   & 213                   \\\\\n",
       "\t Linden                 & NA                     & 3123                   & 18                     & 285                    & 204                    & 174                    & 201                    & 231                    & 186                    & ⋯                      & 144                    & 180                    & 294                    & 222                    & 183                    & 246                    & 117                    & 42                     & 2883                   & 240                   \\\\\n",
       "\t Greenacres             & NA                     & 1239                   & 0                      & 102                    & 75                     & 60                     & 63                     & 66                     & 63                     & ⋯                      & 45                     & 48                     & 111                    & 105                    & 75                     & 177                    & 84                     & 39                     & 1182                   & 54                    \\\\\n",
       "\t Thorndon-Tinakori Road & NA                     & 3804                   & 12                     & 141                    & 162                    & 156                    & 195                    & 195                    & 153                    & ⋯                      & 135                    & 165                    & 369                    & 348                    & 267                    & 522                    & 312                    & 255                    & 3543                   & 261                   \\\\\n",
       "\t Lambton                & NA                     & 5451                   & 24                     & 405                    & 762                    & 573                    & 420                    & 258                    & 216                    & ⋯                      & 171                    & 195                    & 387                    & 339                    & 222                    & 420                    & 282                    & 159                    & 4989                   & 462                   \\\\\n",
       "\\end{tabular}\n"
      ],
      "text/markdown": [
       "\n",
       "rowname | ward | Total.people..total.personal.income | Loss | Zero.income | X.1..5.000 | X.5.001..10.000 | X.10.001..15.000 | X.15.001..20.000 | X.20.001..25.000 | ⋯ | X.30.001..35.000 | X.35.001..40.000 | X.40.001..50.000 | X.50.001..60.000 | X.60.001..70.000 | X.70.001..100.000 | X.100.001..150.000 | X.150.001.or.more | Total.people.stated | Not.stated | \n",
       "|---|---|---|---|---|---|\n",
       "| Tawa South             | NA                     | 2838                   | 6                      | 192                    | 192                    | 132                    | 183                    | 195                    | 180                    | ⋯                      | 120                    | 111                    | 237                    | 216                    | 153                    | 333                    | 216                    | 90                     | 2676                   | 159                    | \n",
       "| Tawa Central           | NA                     | 3444                   | 9                      | 282                    | 207                    | 150                    | 213                    | 261                    | 222                    | ⋯                      | 165                    | 174                    | 321                    | 267                    | 219                    | 372                    | 156                    | 42                     | 3231                   | 213                    | \n",
       "| Linden                 | NA                     | 3123                   | 18                     | 285                    | 204                    | 174                    | 201                    | 231                    | 186                    | ⋯                      | 144                    | 180                    | 294                    | 222                    | 183                    | 246                    | 117                    | 42                     | 2883                   | 240                    | \n",
       "| Greenacres             | NA                     | 1239                   | 0                      | 102                    | 75                     | 60                     | 63                     | 66                     | 63                     | ⋯                      | 45                     | 48                     | 111                    | 105                    | 75                     | 177                    | 84                     | 39                     | 1182                   | 54                     | \n",
       "| Thorndon-Tinakori Road | NA                     | 3804                   | 12                     | 141                    | 162                    | 156                    | 195                    | 195                    | 153                    | ⋯                      | 135                    | 165                    | 369                    | 348                    | 267                    | 522                    | 312                    | 255                    | 3543                   | 261                    | \n",
       "| Lambton                | NA                     | 5451                   | 24                     | 405                    | 762                    | 573                    | 420                    | 258                    | 216                    | ⋯                      | 171                    | 195                    | 387                    | 339                    | 222                    | 420                    | 282                    | 159                    | 4989                   | 462                    | \n",
       "\n",
       "\n"
      ],
      "text/plain": [
       "  rowname                ward Total.people..total.personal.income Loss\n",
       "1 Tawa South             NA   2838                                6   \n",
       "2 Tawa Central           NA   3444                                9   \n",
       "3 Linden                 NA   3123                                18  \n",
       "4 Greenacres             NA   1239                                0   \n",
       "5 Thorndon-Tinakori Road NA   3804                                12  \n",
       "6 Lambton                NA   5451                                24  \n",
       "  Zero.income X.1..5.000 X.5.001..10.000 X.10.001..15.000 X.15.001..20.000\n",
       "1 192         192        132             183              195             \n",
       "2 282         207        150             213              261             \n",
       "3 285         204        174             201              231             \n",
       "4 102         75         60              63               66              \n",
       "5 141         162        156             195              195             \n",
       "6 405         762        573             420              258             \n",
       "  X.20.001..25.000 ⋯ X.30.001..35.000 X.35.001..40.000 X.40.001..50.000\n",
       "1 180              ⋯ 120              111              237             \n",
       "2 222              ⋯ 165              174              321             \n",
       "3 186              ⋯ 144              180              294             \n",
       "4 63               ⋯ 45               48               111             \n",
       "5 153              ⋯ 135              165              369             \n",
       "6 216              ⋯ 171              195              387             \n",
       "  X.50.001..60.000 X.60.001..70.000 X.70.001..100.000 X.100.001..150.000\n",
       "1 216              153              333               216               \n",
       "2 267              219              372               156               \n",
       "3 222              183              246               117               \n",
       "4 105              75               177               84                \n",
       "5 348              267              522               312               \n",
       "6 339              222              420               282               \n",
       "  X.150.001.or.more Total.people.stated Not.stated\n",
       "1 90                2676                159       \n",
       "2 42                3231                213       \n",
       "3 42                2883                240       \n",
       "4 39                1182                54        \n",
       "5 255               3543                261       \n",
       "6 159               4989                462       "
      ]
     },
     "metadata": {},
     "output_type": "display_data"
    }
   ],
   "source": [
    "income_df %>% head()"
   ]
  },
  {
   "cell_type": "code",
   "execution_count": 132,
   "metadata": {},
   "outputs": [],
   "source": [
    "factorToNum <- function(x){\n",
    "    y <- as.numeric(as.character(x))\n",
    "    return(y)\n",
    "}\n",
    "\n",
    "\n",
    "income_vals <- income_df[,5:19]\n",
    "salary_levels <- colnames(income_vals)\n",
    "income_vals <- as.data.frame(sapply( income_vals, factorToNum ));\n",
    "income_vals$statistical_area <- income_df$rowname\n",
    "\n",
    "\n",
    "people <-  income_df[, 20];\n",
    "people <- as.data.frame(sapply(people, factorToNum));\n",
    "colnames(people) <- c('total')\n",
    "people$statistical_area <- as.factor(income_df$rowname)"
   ]
  },
  {
   "cell_type": "code",
   "execution_count": 133,
   "metadata": {},
   "outputs": [
    {
     "data": {
      "text/html": [
       "<table>\n",
       "<thead><tr><th scope=col>income_mid</th><th scope=col>salary_levels</th></tr></thead>\n",
       "<tbody>\n",
       "\t<tr><td>    0           </td><td>Zero.income     </td></tr>\n",
       "\t<tr><td> 2500           </td><td>X.1..5.000      </td></tr>\n",
       "\t<tr><td> 7500           </td><td>X.5.001..10.000 </td></tr>\n",
       "\t<tr><td>12500           </td><td>X.10.001..15.000</td></tr>\n",
       "\t<tr><td>17500           </td><td>X.15.001..20.000</td></tr>\n",
       "\t<tr><td>22500           </td><td>X.20.001..25.000</td></tr>\n",
       "</tbody>\n",
       "</table>\n"
      ],
      "text/latex": [
       "\\begin{tabular}{r|ll}\n",
       " income\\_mid & salary\\_levels\\\\\n",
       "\\hline\n",
       "\t     0            & Zero.income     \\\\\n",
       "\t  2500            & X.1..5.000      \\\\\n",
       "\t  7500            & X.5.001..10.000 \\\\\n",
       "\t 12500            & X.10.001..15.000\\\\\n",
       "\t 17500            & X.15.001..20.000\\\\\n",
       "\t 22500            & X.20.001..25.000\\\\\n",
       "\\end{tabular}\n"
      ],
      "text/markdown": [
       "\n",
       "income_mid | salary_levels | \n",
       "|---|---|---|---|---|---|\n",
       "|     0            | Zero.income      | \n",
       "|  2500            | X.1..5.000       | \n",
       "|  7500            | X.5.001..10.000  | \n",
       "| 12500            | X.10.001..15.000 | \n",
       "| 17500            | X.15.001..20.000 | \n",
       "| 22500            | X.20.001..25.000 | \n",
       "\n",
       "\n"
      ],
      "text/plain": [
       "  income_mid salary_levels   \n",
       "1     0      Zero.income     \n",
       "2  2500      X.1..5.000      \n",
       "3  7500      X.5.001..10.000 \n",
       "4 12500      X.10.001..15.000\n",
       "5 17500      X.15.001..20.000\n",
       "6 22500      X.20.001..25.000"
      ]
     },
     "metadata": {},
     "output_type": "display_data"
    }
   ],
   "source": [
    "income_numeric <- data.frame(income_mid = c(0, seq(2500, 40000, 5000), seq(45000, 70000, 10000), 90000, 125000, 200000))\n",
    "income_numeric$salary_levels <- salary_levels\n",
    "income_numeric %>% head()"
   ]
  },
  {
   "cell_type": "code",
   "execution_count": 134,
   "metadata": {},
   "outputs": [
    {
     "name": "stderr",
     "output_type": "stream",
     "text": [
      "Using statistical_area as id variables\n"
     ]
    }
   ],
   "source": [
    "income_by_statistical_area <- melt(income_vals) \n",
    "income_by_statistical_area <- inner_join(income_by_statistical_area, \n",
    "                                         income_numeric,\n",
    "                                         by = c(\"variable\" = \"salary_levels\"))"
   ]
  },
  {
   "cell_type": "code",
   "execution_count": 135,
   "metadata": {},
   "outputs": [
    {
     "name": "stderr",
     "output_type": "stream",
     "text": [
      "Joining, by = \"statistical_area\"\n"
     ]
    },
    {
     "data": {
      "text/html": [
       "<table>\n",
       "<thead><tr><th scope=col>statistical_area</th><th scope=col>total_calc_income</th><th scope=col>total</th><th scope=col>mean_calc_income</th></tr></thead>\n",
       "<tbody>\n",
       "\t<tr><td>Kaiwharawhara        </td><td> 10327500            </td><td> 117                 </td><td>88269.23             </td></tr>\n",
       "\t<tr><td>Wadestown            </td><td>198255000            </td><td>2661                 </td><td>74503.95             </td></tr>\n",
       "\t<tr><td>Oriental Bay         </td><td> 67785000            </td><td> 915                 </td><td>74081.97             </td></tr>\n",
       "\t<tr><td>Te Kainga            </td><td>212250000            </td><td>2877                 </td><td>73774.77             </td></tr>\n",
       "\t<tr><td>Seatoun              </td><td>116887500            </td><td>1602                 </td><td>72963.48             </td></tr>\n",
       "\t<tr><td>Karaka Bay-Worser Bay</td><td> 79275000            </td><td>1104                 </td><td>71807.07             </td></tr>\n",
       "</tbody>\n",
       "</table>\n"
      ],
      "text/latex": [
       "\\begin{tabular}{r|llll}\n",
       " statistical\\_area & total\\_calc\\_income & total & mean\\_calc\\_income\\\\\n",
       "\\hline\n",
       "\t Kaiwharawhara         &  10327500             &  117                  & 88269.23             \\\\\n",
       "\t Wadestown             & 198255000             & 2661                  & 74503.95             \\\\\n",
       "\t Oriental Bay          &  67785000             &  915                  & 74081.97             \\\\\n",
       "\t Te Kainga             & 212250000             & 2877                  & 73774.77             \\\\\n",
       "\t Seatoun               & 116887500             & 1602                  & 72963.48             \\\\\n",
       "\t Karaka Bay-Worser Bay &  79275000             & 1104                  & 71807.07             \\\\\n",
       "\\end{tabular}\n"
      ],
      "text/markdown": [
       "\n",
       "statistical_area | total_calc_income | total | mean_calc_income | \n",
       "|---|---|---|---|---|---|\n",
       "| Kaiwharawhara         |  10327500             |  117                  | 88269.23              | \n",
       "| Wadestown             | 198255000             | 2661                  | 74503.95              | \n",
       "| Oriental Bay          |  67785000             |  915                  | 74081.97              | \n",
       "| Te Kainga             | 212250000             | 2877                  | 73774.77              | \n",
       "| Seatoun               | 116887500             | 1602                  | 72963.48              | \n",
       "| Karaka Bay-Worser Bay |  79275000             | 1104                  | 71807.07              | \n",
       "\n",
       "\n"
      ],
      "text/plain": [
       "  statistical_area      total_calc_income total mean_calc_income\n",
       "1 Kaiwharawhara          10327500          117  88269.23        \n",
       "2 Wadestown             198255000         2661  74503.95        \n",
       "3 Oriental Bay           67785000          915  74081.97        \n",
       "4 Te Kainga             212250000         2877  73774.77        \n",
       "5 Seatoun               116887500         1602  72963.48        \n",
       "6 Karaka Bay-Worser Bay  79275000         1104  71807.07        "
      ]
     },
     "metadata": {},
     "output_type": "display_data"
    }
   ],
   "source": [
    "mean_income_df <- income_by_statistical_area %>% \n",
    "                    filter(statistical_area %in% df_clean$to_name) %>% \n",
    "                    group_by(statistical_area) %>% \n",
    "                    summarise(total_calc_income = sum(value * income_mid)) %>% \n",
    "                    inner_join(people) %>% \n",
    "                    mutate(mean_calc_income = total_calc_income / total) %>% \n",
    "                    arrange(desc(mean_calc_income)) \n",
    "\n",
    "mean_income_df$statistical_area <- as.factor(mean_income_df$statistical_area)\n",
    "mean_income_df %>% head()"
   ]
  },
  {
   "cell_type": "markdown",
   "metadata": {},
   "source": [
    "# Spatial data\n",
    "+proj=nzmg +lat_0=-41 +lon_0=173 +x_0=2510000 +y_0=6023150 +datum=nzgd49 +units=m +no_defs\n"
   ]
  },
  {
   "cell_type": "markdown",
   "metadata": {},
   "source": [
    "## Get boundary data"
   ]
  },
  {
   "cell_type": "code",
   "execution_count": 136,
   "metadata": {},
   "outputs": [
    {
     "name": "stdout",
     "output_type": "stream",
     "text": [
      "OGR data source with driver: ESRI Shapefile \n",
      "Source: \"/home/shrividya/Documents/wellington-commutes/data/wgtn-stat-area-2\", layer: \"AU_TA_Wellington_CC\"\n",
      "with 68 features\n",
      "It has 5 fields\n"
     ]
    },
    {
     "data": {
      "text/plain": [
       "class       : SpatialPolygonsDataFrame \n",
       "features    : 68 \n",
       "extent      : 2645098, 2669062, 5981296, 6005477  (xmin, xmax, ymin, ymax)\n",
       "coord. ref. : +proj=nzmg +lat_0=-41 +lon_0=173 +x_0=2510000 +y_0=6023150 +datum=nzgd49 +units=m +no_defs +ellps=intl +towgs84=59.47,-5.04,187.44,0.47,-0.1,1.024,-4.5993 \n",
       "variables   : 5\n",
       "names       :  UID_AU_TA,  AU_NO, TA_NO,      AU_NAME,         TA_NAME \n",
       "min values  : 572500|047, 572500,   047,     Adelaide, Wellington City \n",
       "max values  : 577700|047, 577700,   047, Wilton-Otari, Wellington City "
      ]
     },
     "metadata": {},
     "output_type": "display_data"
    }
   ],
   "source": [
    "wgtn <- readOGR(\"./data/wgtn-stat-area-2\", layer=\"AU_TA_Wellington_CC\")\n",
    "wgtn"
   ]
  },
  {
   "cell_type": "markdown",
   "metadata": {},
   "source": [
    "## Calculate pairwise distances"
   ]
  },
  {
   "cell_type": "code",
   "execution_count": 155,
   "metadata": {},
   "outputs": [
    {
     "data": {
      "text/html": [
       "<table>\n",
       "<thead><tr><th scope=col>Var1</th><th scope=col>Var2</th><th scope=col>value</th></tr></thead>\n",
       "<tbody>\n",
       "\t<tr><td>1        </td><td>1        </td><td>   0.0000</td></tr>\n",
       "\t<tr><td>2        </td><td>1        </td><td>1022.0148</td></tr>\n",
       "\t<tr><td>3        </td><td>1        </td><td>1933.0866</td></tr>\n",
       "\t<tr><td>4        </td><td>1        </td><td>8982.1969</td></tr>\n",
       "\t<tr><td>5        </td><td>1        </td><td> 687.4013</td></tr>\n",
       "\t<tr><td>6        </td><td>1        </td><td>1009.7732</td></tr>\n",
       "</tbody>\n",
       "</table>\n"
      ],
      "text/latex": [
       "\\begin{tabular}{r|lll}\n",
       " Var1 & Var2 & value\\\\\n",
       "\\hline\n",
       "\t 1         & 1         &    0.0000\\\\\n",
       "\t 2         & 1         & 1022.0148\\\\\n",
       "\t 3         & 1         & 1933.0866\\\\\n",
       "\t 4         & 1         & 8982.1969\\\\\n",
       "\t 5         & 1         &  687.4013\\\\\n",
       "\t 6         & 1         & 1009.7732\\\\\n",
       "\\end{tabular}\n"
      ],
      "text/markdown": [
       "\n",
       "Var1 | Var2 | value | \n",
       "|---|---|---|---|---|---|\n",
       "| 1         | 1         |    0.0000 | \n",
       "| 2         | 1         | 1022.0148 | \n",
       "| 3         | 1         | 1933.0866 | \n",
       "| 4         | 1         | 8982.1969 | \n",
       "| 5         | 1         |  687.4013 | \n",
       "| 6         | 1         | 1009.7732 | \n",
       "\n",
       "\n"
      ],
      "text/plain": [
       "  Var1 Var2 value    \n",
       "1 1    1       0.0000\n",
       "2 2    1    1022.0148\n",
       "3 3    1    1933.0866\n",
       "4 4    1    8982.1969\n",
       "5 5    1     687.4013\n",
       "6 6    1    1009.7732"
      ]
     },
     "metadata": {},
     "output_type": "display_data"
    }
   ],
   "source": [
    "# Calculate and tabulate pairwise distances\n",
    "nz_grid = \"+init=epsg:2193\"\n",
    "wgtn_grid <- spTransform(wgtn, nz_grid)\n",
    "df_distance <- melt(spDists(wgtn_grid))\n",
    "\n",
    "df_distance %>% head()"
   ]
  },
  {
   "cell_type": "markdown",
   "metadata": {},
   "source": [
    "## Geo-munging"
   ]
  },
  {
   "cell_type": "code",
   "execution_count": 156,
   "metadata": {},
   "outputs": [],
   "source": [
    "# Create the lookup dataframes to match with the pairwise distance dataframe\n",
    "# Names dataframe: numeric sequence --> Name\n",
    "names <- as.data.frame(as.character(wgtn$AU_NAME))\n",
    "names$num <- seq(1, nrow(names))\n",
    "\n",
    "# Code dataframe: Name --> GeoCode\n",
    "code_df <- data.frame(wgtn$UID_AU_TA, wgtn$AU_NAME)\n",
    "colnames(code_df) <- c('UID_AU_TA', 'geo_code')"
   ]
  },
  {
   "cell_type": "code",
   "execution_count": 157,
   "metadata": {},
   "outputs": [
    {
     "data": {
      "text/html": [
       "<table>\n",
       "<thead><tr><th scope=col>Orig_Code</th><th scope=col>Dest_Code</th><th scope=col>distance</th><th scope=col>from</th><th scope=col>to</th></tr></thead>\n",
       "<tbody>\n",
       "\t<tr><td>573900|047        </td><td>573800|047        </td><td>1022.0148         </td><td>Newlands North    </td><td>Johnsonville East </td></tr>\n",
       "\t<tr><td>573523|047        </td><td>573800|047        </td><td>1933.0866         </td><td>Grenada Village   </td><td>Johnsonville East </td></tr>\n",
       "\t<tr><td>573400|047        </td><td>573800|047        </td><td>8982.1969         </td><td>Mt Victoria West  </td><td>Johnsonville East </td></tr>\n",
       "\t<tr><td>573600|047        </td><td>573800|047        </td><td> 687.4013         </td><td>Johnsonville North</td><td>Johnsonville East </td></tr>\n",
       "\t<tr><td>573700|047        </td><td>573800|047        </td><td>1009.7732         </td><td>Johnsonville South</td><td>Johnsonville East </td></tr>\n",
       "\t<tr><td>573000|047        </td><td>573800|047        </td><td>8043.5618         </td><td>Lambton           </td><td>Johnsonville East </td></tr>\n",
       "</tbody>\n",
       "</table>\n"
      ],
      "text/latex": [
       "\\begin{tabular}{r|lllll}\n",
       " Orig\\_Code & Dest\\_Code & distance & from & to\\\\\n",
       "\\hline\n",
       "\t 573900\\textbar{}047 & 573800\\textbar{}047 & 1022.0148            & Newlands North       & Johnsonville East   \\\\\n",
       "\t 573523\\textbar{}047 & 573800\\textbar{}047 & 1933.0866            & Grenada Village      & Johnsonville East   \\\\\n",
       "\t 573400\\textbar{}047 & 573800\\textbar{}047 & 8982.1969            & Mt Victoria West     & Johnsonville East   \\\\\n",
       "\t 573600\\textbar{}047 & 573800\\textbar{}047 &  687.4013            & Johnsonville North   & Johnsonville East   \\\\\n",
       "\t 573700\\textbar{}047 & 573800\\textbar{}047 & 1009.7732            & Johnsonville South   & Johnsonville East   \\\\\n",
       "\t 573000\\textbar{}047 & 573800\\textbar{}047 & 8043.5618            & Lambton              & Johnsonville East   \\\\\n",
       "\\end{tabular}\n"
      ],
      "text/markdown": [
       "\n",
       "Orig_Code | Dest_Code | distance | from | to | \n",
       "|---|---|---|---|---|---|\n",
       "| 573900|047         | 573800|047         | 1022.0148          | Newlands North     | Johnsonville East  | \n",
       "| 573523|047         | 573800|047         | 1933.0866          | Grenada Village    | Johnsonville East  | \n",
       "| 573400|047         | 573800|047         | 8982.1969          | Mt Victoria West   | Johnsonville East  | \n",
       "| 573600|047         | 573800|047         |  687.4013          | Johnsonville North | Johnsonville East  | \n",
       "| 573700|047         | 573800|047         | 1009.7732          | Johnsonville South | Johnsonville East  | \n",
       "| 573000|047         | 573800|047         | 8043.5618          | Lambton            | Johnsonville East  | \n",
       "\n",
       "\n"
      ],
      "text/plain": [
       "  Orig_Code  Dest_Code  distance  from               to               \n",
       "1 573900|047 573800|047 1022.0148 Newlands North     Johnsonville East\n",
       "2 573523|047 573800|047 1933.0866 Grenada Village    Johnsonville East\n",
       "3 573400|047 573800|047 8982.1969 Mt Victoria West   Johnsonville East\n",
       "4 573600|047 573800|047  687.4013 Johnsonville North Johnsonville East\n",
       "5 573700|047 573800|047 1009.7732 Johnsonville South Johnsonville East\n",
       "6 573000|047 573800|047 8043.5618 Lambton            Johnsonville East"
      ]
     },
     "metadata": {},
     "output_type": "display_data"
    }
   ],
   "source": [
    "# Clean up pairwise distance dataframe\n",
    "# Join both To and From columns to names lookup DF\n",
    "df_distance <- inner_join(df_distance, names, by=c(\"Var1\"= \"num\"))\n",
    "df_distance <- inner_join(df_distance, names, by=c(\"Var2\"= \"num\"))\n",
    "\n",
    "# Clean up To and From column names\n",
    "colnames(df_distance) <- c('Var1', 'Var2', 'distance', 'from', 'to')\n",
    "\n",
    "# Join to geo_code df\n",
    "df_distance <- inner_join(df_distance, code_df, by=c(\"from\"= \"geo_code\"))\n",
    "df_distance <- inner_join(df_distance, code_df, by=c(\"to\"= \"geo_code\"))\n",
    "\n",
    "# Final cleanup: Order DF such that geo_code columns are at the start\n",
    "# The geo_code ordering is important for the od2line function\n",
    "df_distance <- df_distance %>% dplyr::select(-c(Var1, Var2))\n",
    "colnames(df_distance) <- c( 'distance', 'from', 'to', 'Orig_Code', 'Dest_Code')\n",
    "df_distance <- df_distance %>% \n",
    "                dplyr::select(Orig_Code, Dest_Code, distance, from, to) %>%\n",
    "                filter(from != to)\n",
    "# Look at pairwise distances\n",
    "df_distance %>% head()"
   ]
  },
  {
   "cell_type": "code",
   "execution_count": 158,
   "metadata": {},
   "outputs": [
    {
     "data": {
      "text/html": [
       "<table>\n",
       "<thead><tr><th scope=col>from_name</th><th scope=col>commuting_popn</th></tr></thead>\n",
       "<tbody>\n",
       "\t<tr><td>Adelaide               </td><td> 327                   </td></tr>\n",
       "\t<tr><td>Aro Street-Nairn Street</td><td>1467                   </td></tr>\n",
       "\t<tr><td>Awarua                 </td><td>3135                   </td></tr>\n",
       "\t<tr><td>Berhampore East        </td><td> 333                   </td></tr>\n",
       "\t<tr><td>Berhampore West        </td><td> 819                   </td></tr>\n",
       "\t<tr><td>Brooklyn               </td><td>1686                   </td></tr>\n",
       "</tbody>\n",
       "</table>\n"
      ],
      "text/latex": [
       "\\begin{tabular}{r|ll}\n",
       " from\\_name & commuting\\_popn\\\\\n",
       "\\hline\n",
       "\t Adelaide                &  327                   \\\\\n",
       "\t Aro Street-Nairn Street & 1467                   \\\\\n",
       "\t Awarua                  & 3135                   \\\\\n",
       "\t Berhampore East         &  333                   \\\\\n",
       "\t Berhampore West         &  819                   \\\\\n",
       "\t Brooklyn                & 1686                   \\\\\n",
       "\\end{tabular}\n"
      ],
      "text/markdown": [
       "\n",
       "from_name | commuting_popn | \n",
       "|---|---|---|---|---|---|\n",
       "| Adelaide                |  327                    | \n",
       "| Aro Street-Nairn Street | 1467                    | \n",
       "| Awarua                  | 3135                    | \n",
       "| Berhampore East         |  333                    | \n",
       "| Berhampore West         |  819                    | \n",
       "| Brooklyn                | 1686                    | \n",
       "\n",
       "\n"
      ],
      "text/plain": [
       "  from_name               commuting_popn\n",
       "1 Adelaide                 327          \n",
       "2 Aro Street-Nairn Street 1467          \n",
       "3 Awarua                  3135          \n",
       "4 Berhampore East          333          \n",
       "5 Berhampore West          819          \n",
       "6 Brooklyn                1686          "
      ]
     },
     "metadata": {},
     "output_type": "display_data"
    }
   ],
   "source": [
    "df_commuter_popn <- df %>% \n",
    "                    filter(to_name %in% from_name) %>%\n",
    "                    filter(flow_type == \"out\") %>%\n",
    "                    group_by(from_name) %>%\n",
    "                    summarise(commuting_popn = sum(year_2013))\n",
    "\n",
    "df_commuter_popn %>% head()"
   ]
  },
  {
   "cell_type": "code",
   "execution_count": 159,
   "metadata": {},
   "outputs": [
    {
     "data": {
      "text/html": [
       "<table>\n",
       "<thead><tr><th scope=col>Orig_Code</th><th scope=col>Dest_Code</th><th scope=col>distance</th><th scope=col>from</th><th scope=col>to</th><th scope=col>total_calc_income</th><th scope=col>mean_calc_income</th><th scope=col>commuting_popn</th></tr></thead>\n",
       "<tbody>\n",
       "\t<tr><td>573900|047             </td><td>573800|047             </td><td>1022.0148              </td><td>Newlands North         </td><td>Johnsonville East      </td><td>37747500               </td><td>51357.14               </td><td> 897                   </td></tr>\n",
       "\t<tr><td>573523|047             </td><td>573800|047             </td><td>1933.0866              </td><td>Grenada Village        </td><td>Johnsonville East      </td><td>37747500               </td><td>51357.14               </td><td> 426                   </td></tr>\n",
       "\t<tr><td>573400|047             </td><td>573800|047             </td><td>8982.1969              </td><td>Mt Victoria West       </td><td>Johnsonville East      </td><td>37747500               </td><td>51357.14               </td><td>2775                   </td></tr>\n",
       "\t<tr><td>573600|047             </td><td>573800|047             </td><td> 687.4013              </td><td>Johnsonville North     </td><td>Johnsonville East      </td><td>37747500               </td><td>51357.14               </td><td> 600                   </td></tr>\n",
       "\t<tr><td>573000|047             </td><td>573800|047             </td><td>8043.5618              </td><td>Lambton                </td><td>Johnsonville East      </td><td>37747500               </td><td>51357.14               </td><td>1065                   </td></tr>\n",
       "\t<tr><td>573200|047             </td><td>573800|047             </td><td>9491.6768              </td><td>Aro Street-Nairn Street</td><td>Johnsonville East      </td><td>37747500               </td><td>51357.14               </td><td>1467                   </td></tr>\n",
       "</tbody>\n",
       "</table>\n"
      ],
      "text/latex": [
       "\\begin{tabular}{r|llllllll}\n",
       " Orig\\_Code & Dest\\_Code & distance & from & to & total\\_calc\\_income & mean\\_calc\\_income & commuting\\_popn\\\\\n",
       "\\hline\n",
       "\t 573900\\textbar{}047    & 573800\\textbar{}047    & 1022.0148               & Newlands North          & Johnsonville East       & 37747500                & 51357.14                &  897                   \\\\\n",
       "\t 573523\\textbar{}047    & 573800\\textbar{}047    & 1933.0866               & Grenada Village         & Johnsonville East       & 37747500                & 51357.14                &  426                   \\\\\n",
       "\t 573400\\textbar{}047    & 573800\\textbar{}047    & 8982.1969               & Mt Victoria West        & Johnsonville East       & 37747500                & 51357.14                & 2775                   \\\\\n",
       "\t 573600\\textbar{}047    & 573800\\textbar{}047    &  687.4013               & Johnsonville North      & Johnsonville East       & 37747500                & 51357.14                &  600                   \\\\\n",
       "\t 573000\\textbar{}047    & 573800\\textbar{}047    & 8043.5618               & Lambton                 & Johnsonville East       & 37747500                & 51357.14                & 1065                   \\\\\n",
       "\t 573200\\textbar{}047    & 573800\\textbar{}047    & 9491.6768               & Aro Street-Nairn Street & Johnsonville East       & 37747500                & 51357.14                & 1467                   \\\\\n",
       "\\end{tabular}\n"
      ],
      "text/markdown": [
       "\n",
       "Orig_Code | Dest_Code | distance | from | to | total_calc_income | mean_calc_income | commuting_popn | \n",
       "|---|---|---|---|---|---|\n",
       "| 573900|047              | 573800|047              | 1022.0148               | Newlands North          | Johnsonville East       | 37747500                | 51357.14                |  897                    | \n",
       "| 573523|047              | 573800|047              | 1933.0866               | Grenada Village         | Johnsonville East       | 37747500                | 51357.14                |  426                    | \n",
       "| 573400|047              | 573800|047              | 8982.1969               | Mt Victoria West        | Johnsonville East       | 37747500                | 51357.14                | 2775                    | \n",
       "| 573600|047              | 573800|047              |  687.4013               | Johnsonville North      | Johnsonville East       | 37747500                | 51357.14                |  600                    | \n",
       "| 573000|047              | 573800|047              | 8043.5618               | Lambton                 | Johnsonville East       | 37747500                | 51357.14                | 1065                    | \n",
       "| 573200|047              | 573800|047              | 9491.6768               | Aro Street-Nairn Street | Johnsonville East       | 37747500                | 51357.14                | 1467                    | \n",
       "\n",
       "\n"
      ],
      "text/plain": [
       "  Orig_Code  Dest_Code  distance  from                    to               \n",
       "1 573900|047 573800|047 1022.0148 Newlands North          Johnsonville East\n",
       "2 573523|047 573800|047 1933.0866 Grenada Village         Johnsonville East\n",
       "3 573400|047 573800|047 8982.1969 Mt Victoria West        Johnsonville East\n",
       "4 573600|047 573800|047  687.4013 Johnsonville North      Johnsonville East\n",
       "5 573000|047 573800|047 8043.5618 Lambton                 Johnsonville East\n",
       "6 573200|047 573800|047 9491.6768 Aro Street-Nairn Street Johnsonville East\n",
       "  total_calc_income mean_calc_income commuting_popn\n",
       "1 37747500          51357.14          897          \n",
       "2 37747500          51357.14          426          \n",
       "3 37747500          51357.14         2775          \n",
       "4 37747500          51357.14          600          \n",
       "5 37747500          51357.14         1065          \n",
       "6 37747500          51357.14         1467          "
      ]
     },
     "metadata": {},
     "output_type": "display_data"
    }
   ],
   "source": [
    "df_distance <- inner_join(df_distance, mean_income_df %>% select(-total), by=c(\"to\" = \"statistical_area\"))\n",
    "df_distance <- inner_join(df_distance, df_commuter_popn, by=c(\"from\" = \"from_name\"))\n",
    "\n",
    "df_distance %>% head()"
   ]
  },
  {
   "cell_type": "markdown",
   "metadata": {},
   "source": [
    "## Plotting some flows"
   ]
  },
  {
   "cell_type": "code",
   "execution_count": 160,
   "metadata": {},
   "outputs": [],
   "source": [
    "#use the od2line function from RObin Lovelace's excellent stplanr package\n",
    "travel_network <- od2line(flow = df_distance %>% select(Orig_Code, Dest_Code, commuting_popn) %>% sample_n(20),  zones = wgtn)\n",
    "travel_networkwgs <- spTransform(travel_network, nz_grid)\n",
    "#And the Australia Map\n",
    "nz_wgs <- spTransform(wgtn, nz_grid)\n",
    "#and set the line widths to some sensible value according to the flow\n",
    "w <- df_distance$commuting_popn / max(df_distance$commuting_popn) * 10\n",
    "#now plot it...\n"
   ]
  },
  {
   "cell_type": "code",
   "execution_count": 161,
   "metadata": {},
   "outputs": [
    {
     "data": {
      "image/png": "[encoded data removed]",
      "text/plain": [
       "plot without title"
      ]
     },
     "metadata": {},
     "output_type": "display_data"
    }
   ],
   "source": [
    "plot(travel_networkwgs, lwd = w)\n",
    "plot(wgtn_grid, add=T)"
   ]
  },
  {
   "cell_type": "code",
   "execution_count": null,
   "metadata": {},
   "outputs": [],
   "source": []
  }
 ],
 "metadata": {
  "hide_input": false,
  "kernelspec": {
   "display_name": "R",
   "language": "R",
   "name": "ir"
  },
  "language_info": {
   "codemirror_mode": "r",
   "file_extension": ".r",
   "mimetype": "text/x-r-source",
   "name": "R",
   "pygments_lexer": "r",
   "version": "3.4.4"
  },
  "toc": {
   "base_numbering": 1,
   "nav_menu": {},
   "number_sections": true,
   "sideBar": true,
   "skip_h1_title": false,
   "title_cell": "Table of Contents",
   "title_sidebar": "Contents",
   "toc_cell": false,
   "toc_position": {},
   "toc_section_display": true,
   "toc_window_display": false
  }
 },
 "nbformat": 4,
 "nbformat_minor": 2
}
