{
 "cells": [
  {
   "cell_type": "markdown",
   "metadata": {},
   "source": [
    "# Introduction \n",
    "Following through [this excellent tutorial](https://rpubs.com/adam_dennett/257231) by Adam Dennett on geospatial flow modelling. The focus of this notebook is:\n",
    "- Getting and cleaning data on commuter flows from StatsNZ\n",
    "- Plotting the flow data onto the territorial authorities map for Wellington\n",
    "- Findng the data equivalents used in the RPubs analysis for Wellington \n",
    "- Presenting and understanding the basic unconstrained model of spatial flows"
   ]
  },
  {
   "cell_type": "markdown",
   "metadata": {},
   "source": [
    "# Package installation\n",
    "I'm working from a Ubuntu 18.04 VM on Windows. I needed to install a bunch of additional linux packages for the necessary R libraries and their dependencies:\n",
    "- sudo apt  install protobuf-compiler\n",
    "- sudo apt install libprotobuf-dev\n",
    "- sudo apt install libv8-3.14-dev\n",
    "- sudo apt-get install libjq-dev\n",
    "- sudo apt install libudunits2-dev\n",
    "- sudo apt install libgdal-dev\n",
    "- sudo apt install libgdal1-dev (though I'm not 100% sure of this one)\n"
   ]
  },
  {
   "cell_type": "code",
   "execution_count": 745,
   "metadata": {},
   "outputs": [],
   "source": [
    "library(sp)\n",
    "library(MASS)\n",
    "library(reshape2)\n",
    "library(geojsonio)\n",
    "library(rgdal)\n",
    "library(downloader)\n",
    "library(maptools)\n",
    "library(tmap)\n",
    "library(dplyr)\n",
    "library(broom) \n",
    "library(stplanr)\n",
    "library(ggplot2)\n",
    "library(leaflet)\n",
    "library(sf)\n",
    "\n",
    "# Load user modules\n",
    "source(\"utils/data_processing.R\")\n",
    "source(\"utils/model_processing.R\")\n",
    "\n",
    "# Notebook configurations\n",
    "options(warn=-1) # Turn on Warnings with warn=0\n",
    "options(repr.plot.width=4, repr.plot.height=3)"
   ]
  },
  {
   "cell_type": "markdown",
   "metadata": {},
   "source": [
    "# Data\n",
    "There 4 key data sources for spatial flow modelling: \n",
    "- Geography shape file of the region\n",
    "- Flow data\n",
    "- Destination \"attractiveness\" features\n",
    "- Origin \"migration propensity\" features\n",
    "\n",
    "All 4 data sources have to be aggregated at the same spatial unit level. For this example, I've chosen to go with \"statistical area 2\" spatial unit. This is a mid-level coarse graining of the Wellington TA that loosely corresponds to suburbs. \n",
    "\n",
    "Data | Source \n",
    "--- | --- \n",
    "Geography shape file of the region | Stats NZ\n",
    "Flow data | Stats NZ Commuter Flows visualisation\n",
    "Destination \"attractiveness\" features | Mean personal income calculated from # people in income brackets\n",
    "Origin \"migration propensity\" features | Population\n",
    "\n",
    "Some notes: \n",
    "- Mean income is calculated from the coarse income brackets using the mid-bracket value. Because of the bracketing, it's only possible to calculate the mean, not the preferred median. I don't feel that this is a robust calculation since (1) the larger income brackets are much wider, and (2) the very high income bracket is not bounded - it's $150,000 and above.  \n",
    "- Population value to use? As a simple approximating, we can use the number of commuting adults as the \"population\" - though it's the working, commuting, adult population of the area. "
   ]
  },
  {
   "cell_type": "markdown",
   "metadata": {},
   "source": [
    "## Getting flow data\n",
    "Commuter flows from the NZ census are not available in a handy tabular format. But StatsNZ have provided a [Beta version of a commuter flow interactive map](https://www.stats.govt.nz/tools/commuter-view). I manually downloaded the flow data for each of the wards within the Wellington City territorial authority. The data is limited because the Wellington City TA doesn't capture the Hutt Valley or Porirua - two key suburban areas of the Greater Wellington region. Once I have a basic version of the model running, I'll extract the complete dataset. "
   ]
  },
  {
   "cell_type": "code",
   "execution_count": 727,
   "metadata": {},
   "outputs": [],
   "source": [
    "df_flow <- readCommuterFlows(\"data/commuter_flow_wellington_city.csv\")"
   ]
  },
  {
   "cell_type": "code",
   "execution_count": 728,
   "metadata": {},
   "outputs": [
    {
     "data": {
      "text/html": [
       "<table>\n",
       "<thead><tr><th scope=col>to_code</th><th scope=col>to_name</th><th scope=col>flow_type</th><th scope=col>year_2006</th><th scope=col>year_2013</th><th scope=col>from_code</th><th scope=col>from_name</th></tr></thead>\n",
       "<tbody>\n",
       "\t<tr><td>575300          </td><td>Kelburn         </td><td>out             </td><td>  9             </td><td>  9             </td><td>576500          </td><td>Adelaide        </td></tr>\n",
       "\t<tr><td>576901          </td><td>Kilbirnie East  </td><td>out             </td><td>  9             </td><td>  6             </td><td>576500          </td><td>Adelaide        </td></tr>\n",
       "\t<tr><td>573000          </td><td>Lambton         </td><td>out             </td><td>114             </td><td>138             </td><td>576500          </td><td>Adelaide        </td></tr>\n",
       "\t<tr><td>573400          </td><td>Mt Victoria West</td><td>out             </td><td>  9             </td><td>  6             </td><td>576500          </td><td>Adelaide        </td></tr>\n",
       "\t<tr><td>576400          </td><td>Newtown East    </td><td>out             </td><td>  9             </td><td> 12             </td><td>576500          </td><td>Adelaide        </td></tr>\n",
       "\t<tr><td>576301          </td><td>Newtown West    </td><td>out             </td><td>  6             </td><td>  9             </td><td>576500          </td><td>Adelaide        </td></tr>\n",
       "</tbody>\n",
       "</table>\n"
      ],
      "text/latex": [
       "\\begin{tabular}{r|lllllll}\n",
       " to\\_code & to\\_name & flow\\_type & year\\_2006 & year\\_2013 & from\\_code & from\\_name\\\\\n",
       "\\hline\n",
       "\t 575300           & Kelburn          & out              &   9              &   9              & 576500           & Adelaide        \\\\\n",
       "\t 576901           & Kilbirnie East   & out              &   9              &   6              & 576500           & Adelaide        \\\\\n",
       "\t 573000           & Lambton          & out              & 114              & 138              & 576500           & Adelaide        \\\\\n",
       "\t 573400           & Mt Victoria West & out              &   9              &   6              & 576500           & Adelaide        \\\\\n",
       "\t 576400           & Newtown East     & out              &   9              &  12              & 576500           & Adelaide        \\\\\n",
       "\t 576301           & Newtown West     & out              &   6              &   9              & 576500           & Adelaide        \\\\\n",
       "\\end{tabular}\n"
      ],
      "text/markdown": [
       "\n",
       "to_code | to_name | flow_type | year_2006 | year_2013 | from_code | from_name | \n",
       "|---|---|---|---|---|---|\n",
       "| 575300           | Kelburn          | out              |   9              |   9              | 576500           | Adelaide         | \n",
       "| 576901           | Kilbirnie East   | out              |   9              |   6              | 576500           | Adelaide         | \n",
       "| 573000           | Lambton          | out              | 114              | 138              | 576500           | Adelaide         | \n",
       "| 573400           | Mt Victoria West | out              |   9              |   6              | 576500           | Adelaide         | \n",
       "| 576400           | Newtown East     | out              |   9              |  12              | 576500           | Adelaide         | \n",
       "| 576301           | Newtown West     | out              |   6              |   9              | 576500           | Adelaide         | \n",
       "\n",
       "\n"
      ],
      "text/plain": [
       "  to_code to_name          flow_type year_2006 year_2013 from_code from_name\n",
       "1 575300  Kelburn          out         9         9       576500    Adelaide \n",
       "2 576901  Kilbirnie East   out         9         6       576500    Adelaide \n",
       "3 573000  Lambton          out       114       138       576500    Adelaide \n",
       "4 573400  Mt Victoria West out         9         6       576500    Adelaide \n",
       "5 576400  Newtown East     out         9        12       576500    Adelaide \n",
       "6 576301  Newtown West     out         6         9       576500    Adelaide "
      ]
     },
     "metadata": {},
     "output_type": "display_data"
    }
   ],
   "source": [
    "df_flow_clean <- df_flow %>% filter(to_name %in% from_name) %>% filter(flow_type == 'out')\n",
    "df_flow_clean %>% head()"
   ]
  },
  {
   "cell_type": "markdown",
   "metadata": {},
   "source": [
    "## Get origin and destination features"
   ]
  },
  {
   "cell_type": "code",
   "execution_count": 686,
   "metadata": {},
   "outputs": [
    {
     "data": {
      "text/html": [
       "<table>\n",
       "<thead><tr><th scope=col>rowname</th><th scope=col>ward</th><th scope=col>Total.people..total.personal.income</th><th scope=col>Loss</th><th scope=col>Zero.income</th><th scope=col>X.1..5.000</th><th scope=col>X.5.001..10.000</th><th scope=col>X.10.001..15.000</th><th scope=col>X.15.001..20.000</th><th scope=col>X.20.001..25.000</th><th scope=col>⋯</th><th scope=col>X.30.001..35.000</th><th scope=col>X.35.001..40.000</th><th scope=col>X.40.001..50.000</th><th scope=col>X.50.001..60.000</th><th scope=col>X.60.001..70.000</th><th scope=col>X.70.001..100.000</th><th scope=col>X.100.001..150.000</th><th scope=col>X.150.001.or.more</th><th scope=col>Total.people.stated</th><th scope=col>Not.stated</th></tr></thead>\n",
       "<tbody>\n",
       "\t<tr><td>Tawa South            </td><td>NA                    </td><td>2838                  </td><td>6                     </td><td>192                   </td><td>192                   </td><td>132                   </td><td>183                   </td><td>195                   </td><td>180                   </td><td>⋯                     </td><td>120                   </td><td>111                   </td><td>237                   </td><td>216                   </td><td>153                   </td><td>333                   </td><td>216                   </td><td>90                    </td><td>2676                  </td><td>159                   </td></tr>\n",
       "\t<tr><td>Tawa Central          </td><td>NA                    </td><td>3444                  </td><td>9                     </td><td>282                   </td><td>207                   </td><td>150                   </td><td>213                   </td><td>261                   </td><td>222                   </td><td>⋯                     </td><td>165                   </td><td>174                   </td><td>321                   </td><td>267                   </td><td>219                   </td><td>372                   </td><td>156                   </td><td>42                    </td><td>3231                  </td><td>213                   </td></tr>\n",
       "\t<tr><td>Linden                </td><td>NA                    </td><td>3123                  </td><td>18                    </td><td>285                   </td><td>204                   </td><td>174                   </td><td>201                   </td><td>231                   </td><td>186                   </td><td>⋯                     </td><td>144                   </td><td>180                   </td><td>294                   </td><td>222                   </td><td>183                   </td><td>246                   </td><td>117                   </td><td>42                    </td><td>2883                  </td><td>240                   </td></tr>\n",
       "\t<tr><td>Greenacres            </td><td>NA                    </td><td>1239                  </td><td>0                     </td><td>102                   </td><td>75                    </td><td>60                    </td><td>63                    </td><td>66                    </td><td>63                    </td><td>⋯                     </td><td>45                    </td><td>48                    </td><td>111                   </td><td>105                   </td><td>75                    </td><td>177                   </td><td>84                    </td><td>39                    </td><td>1182                  </td><td>54                    </td></tr>\n",
       "\t<tr><td>Thorndon-Tinakori Road</td><td>NA                    </td><td>3804                  </td><td>12                    </td><td>141                   </td><td>162                   </td><td>156                   </td><td>195                   </td><td>195                   </td><td>153                   </td><td>⋯                     </td><td>135                   </td><td>165                   </td><td>369                   </td><td>348                   </td><td>267                   </td><td>522                   </td><td>312                   </td><td>255                   </td><td>3543                  </td><td>261                   </td></tr>\n",
       "\t<tr><td>Lambton               </td><td>NA                    </td><td>5451                  </td><td>24                    </td><td>405                   </td><td>762                   </td><td>573                   </td><td>420                   </td><td>258                   </td><td>216                   </td><td>⋯                     </td><td>171                   </td><td>195                   </td><td>387                   </td><td>339                   </td><td>222                   </td><td>420                   </td><td>282                   </td><td>159                   </td><td>4989                  </td><td>462                   </td></tr>\n",
       "</tbody>\n",
       "</table>\n"
      ],
      "text/latex": [
       "\\begin{tabular}{r|lllllllllllllllllllll}\n",
       " rowname & ward & Total.people..total.personal.income & Loss & Zero.income & X.1..5.000 & X.5.001..10.000 & X.10.001..15.000 & X.15.001..20.000 & X.20.001..25.000 & ⋯ & X.30.001..35.000 & X.35.001..40.000 & X.40.001..50.000 & X.50.001..60.000 & X.60.001..70.000 & X.70.001..100.000 & X.100.001..150.000 & X.150.001.or.more & Total.people.stated & Not.stated\\\\\n",
       "\\hline\n",
       "\t Tawa South             & NA                     & 2838                   & 6                      & 192                    & 192                    & 132                    & 183                    & 195                    & 180                    & ⋯                      & 120                    & 111                    & 237                    & 216                    & 153                    & 333                    & 216                    & 90                     & 2676                   & 159                   \\\\\n",
       "\t Tawa Central           & NA                     & 3444                   & 9                      & 282                    & 207                    & 150                    & 213                    & 261                    & 222                    & ⋯                      & 165                    & 174                    & 321                    & 267                    & 219                    & 372                    & 156                    & 42                     & 3231                   & 213                   \\\\\n",
       "\t Linden                 & NA                     & 3123                   & 18                     & 285                    & 204                    & 174                    & 201                    & 231                    & 186                    & ⋯                      & 144                    & 180                    & 294                    & 222                    & 183                    & 246                    & 117                    & 42                     & 2883                   & 240                   \\\\\n",
       "\t Greenacres             & NA                     & 1239                   & 0                      & 102                    & 75                     & 60                     & 63                     & 66                     & 63                     & ⋯                      & 45                     & 48                     & 111                    & 105                    & 75                     & 177                    & 84                     & 39                     & 1182                   & 54                    \\\\\n",
       "\t Thorndon-Tinakori Road & NA                     & 3804                   & 12                     & 141                    & 162                    & 156                    & 195                    & 195                    & 153                    & ⋯                      & 135                    & 165                    & 369                    & 348                    & 267                    & 522                    & 312                    & 255                    & 3543                   & 261                   \\\\\n",
       "\t Lambton                & NA                     & 5451                   & 24                     & 405                    & 762                    & 573                    & 420                    & 258                    & 216                    & ⋯                      & 171                    & 195                    & 387                    & 339                    & 222                    & 420                    & 282                    & 159                    & 4989                   & 462                   \\\\\n",
       "\\end{tabular}\n"
      ],
      "text/markdown": [
       "\n",
       "rowname | ward | Total.people..total.personal.income | Loss | Zero.income | X.1..5.000 | X.5.001..10.000 | X.10.001..15.000 | X.15.001..20.000 | X.20.001..25.000 | ⋯ | X.30.001..35.000 | X.35.001..40.000 | X.40.001..50.000 | X.50.001..60.000 | X.60.001..70.000 | X.70.001..100.000 | X.100.001..150.000 | X.150.001.or.more | Total.people.stated | Not.stated | \n",
       "|---|---|---|---|---|---|\n",
       "| Tawa South             | NA                     | 2838                   | 6                      | 192                    | 192                    | 132                    | 183                    | 195                    | 180                    | ⋯                      | 120                    | 111                    | 237                    | 216                    | 153                    | 333                    | 216                    | 90                     | 2676                   | 159                    | \n",
       "| Tawa Central           | NA                     | 3444                   | 9                      | 282                    | 207                    | 150                    | 213                    | 261                    | 222                    | ⋯                      | 165                    | 174                    | 321                    | 267                    | 219                    | 372                    | 156                    | 42                     | 3231                   | 213                    | \n",
       "| Linden                 | NA                     | 3123                   | 18                     | 285                    | 204                    | 174                    | 201                    | 231                    | 186                    | ⋯                      | 144                    | 180                    | 294                    | 222                    | 183                    | 246                    | 117                    | 42                     | 2883                   | 240                    | \n",
       "| Greenacres             | NA                     | 1239                   | 0                      | 102                    | 75                     | 60                     | 63                     | 66                     | 63                     | ⋯                      | 45                     | 48                     | 111                    | 105                    | 75                     | 177                    | 84                     | 39                     | 1182                   | 54                     | \n",
       "| Thorndon-Tinakori Road | NA                     | 3804                   | 12                     | 141                    | 162                    | 156                    | 195                    | 195                    | 153                    | ⋯                      | 135                    | 165                    | 369                    | 348                    | 267                    | 522                    | 312                    | 255                    | 3543                   | 261                    | \n",
       "| Lambton                | NA                     | 5451                   | 24                     | 405                    | 762                    | 573                    | 420                    | 258                    | 216                    | ⋯                      | 171                    | 195                    | 387                    | 339                    | 222                    | 420                    | 282                    | 159                    | 4989                   | 462                    | \n",
       "\n",
       "\n"
      ],
      "text/plain": [
       "  rowname                ward Total.people..total.personal.income Loss\n",
       "1 Tawa South             NA   2838                                6   \n",
       "2 Tawa Central           NA   3444                                9   \n",
       "3 Linden                 NA   3123                                18  \n",
       "4 Greenacres             NA   1239                                0   \n",
       "5 Thorndon-Tinakori Road NA   3804                                12  \n",
       "6 Lambton                NA   5451                                24  \n",
       "  Zero.income X.1..5.000 X.5.001..10.000 X.10.001..15.000 X.15.001..20.000\n",
       "1 192         192        132             183              195             \n",
       "2 282         207        150             213              261             \n",
       "3 285         204        174             201              231             \n",
       "4 102         75         60              63               66              \n",
       "5 141         162        156             195              195             \n",
       "6 405         762        573             420              258             \n",
       "  X.20.001..25.000 ⋯ X.30.001..35.000 X.35.001..40.000 X.40.001..50.000\n",
       "1 180              ⋯ 120              111              237             \n",
       "2 222              ⋯ 165              174              321             \n",
       "3 186              ⋯ 144              180              294             \n",
       "4 63               ⋯ 45               48               111             \n",
       "5 153              ⋯ 135              165              369             \n",
       "6 216              ⋯ 171              195              387             \n",
       "  X.50.001..60.000 X.60.001..70.000 X.70.001..100.000 X.100.001..150.000\n",
       "1 216              153              333               216               \n",
       "2 267              219              372               156               \n",
       "3 222              183              246               117               \n",
       "4 105              75               177               84                \n",
       "5 348              267              522               312               \n",
       "6 339              222              420               282               \n",
       "  X.150.001.or.more Total.people.stated Not.stated\n",
       "1 90                2676                159       \n",
       "2 42                3231                213       \n",
       "3 42                2883                240       \n",
       "4 39                1182                54        \n",
       "5 255               3543                261       \n",
       "6 159               4989                462       "
      ]
     },
     "metadata": {},
     "output_type": "display_data"
    }
   ],
   "source": [
    "income_df <- read.csv(\"data//wellington-city-ta-personal-income-bracket.csv\", sep=';', strip.white=T)\n",
    "income_df <- tibble::rownames_to_column(income_df)\n",
    "income_df %>% head()"
   ]
  },
  {
   "cell_type": "code",
   "execution_count": 718,
   "metadata": {},
   "outputs": [
    {
     "name": "stderr",
     "output_type": "stream",
     "text": [
      "Using statistical_area as id variables\n",
      "Joining, by = \"statistical_area\"\n"
     ]
    }
   ],
   "source": [
    "income_vals <- cleanIncomeData(income_df)\n",
    "df_mean_income <- calculateMeanIncome(income_vals)"
   ]
  },
  {
   "cell_type": "code",
   "execution_count": 624,
   "metadata": {},
   "outputs": [],
   "source": [
    "df_commuter_popn <- df_flow %>% \n",
    "                    filter(to_name %in% from_name) %>%\n",
    "                    filter(flow_type == \"out\") %>%\n",
    "                    group_by(from_name) %>%\n",
    "                    summarise(commuting_popn = sum(year_2013))"
   ]
  },
  {
   "cell_type": "markdown",
   "metadata": {},
   "source": [
    "## Get Statistical Area Unit boundaries"
   ]
  },
  {
   "cell_type": "code",
   "execution_count": 571,
   "metadata": {},
   "outputs": [
    {
     "name": "stdout",
     "output_type": "stream",
     "text": [
      "OGR data source with driver: ESRI Shapefile \n",
      "Source: \"/home/shrividya/Documents/wellington-commutes/data/wgtn-stat-area-2\", layer: \"AU_TA_Wellington_CC\"\n",
      "with 68 features\n",
      "It has 5 fields\n"
     ]
    },
    {
     "data": {
      "text/plain": [
       "class       : SpatialPolygonsDataFrame \n",
       "features    : 68 \n",
       "extent      : 2645098, 2669062, 5981296, 6005477  (xmin, xmax, ymin, ymax)\n",
       "coord. ref. : +proj=nzmg +lat_0=-41 +lon_0=173 +x_0=2510000 +y_0=6023150 +datum=nzgd49 +units=m +no_defs +ellps=intl +towgs84=59.47,-5.04,187.44,0.47,-0.1,1.024,-4.5993 \n",
       "variables   : 5\n",
       "names       :  UID_AU_TA,  AU_NO, TA_NO,      AU_NAME,         TA_NAME \n",
       "min values  : 572500|047, 572500,   047,     Adelaide, Wellington City \n",
       "max values  : 577700|047, 577700,   047, Wilton-Otari, Wellington City "
      ]
     },
     "metadata": {},
     "output_type": "display_data"
    }
   ],
   "source": [
    "wgtn <- readOGR(\"./data/wgtn-stat-area-2\", layer=\"AU_TA_Wellington_CC\")\n",
    "wgtn"
   ]
  },
  {
   "cell_type": "markdown",
   "metadata": {},
   "source": [
    "# Data Munging"
   ]
  },
  {
   "cell_type": "markdown",
   "metadata": {},
   "source": [
    "## Calculate pairwise distances"
   ]
  },
  {
   "cell_type": "code",
   "execution_count": 724,
   "metadata": {},
   "outputs": [],
   "source": [
    "# Calculate and tabulate pairwise distances\n",
    "nz_grid = \"+init=epsg:2193\"\n",
    "wgtn_grid <- spTransform(wgtn, nz_grid)\n",
    "df_distance <- melt(spDists(wgtn_grid))"
   ]
  },
  {
   "cell_type": "markdown",
   "metadata": {},
   "source": [
    "## Geo-munging"
   ]
  },
  {
   "cell_type": "code",
   "execution_count": 725,
   "metadata": {},
   "outputs": [],
   "source": [
    "# Create the lookup dataframes to match with the pairwise distance dataframe\n",
    "# Names dataframe: numeric sequence --> Name\n",
    "names <- as.data.frame(as.character(wgtn$AU_NAME))\n",
    "names$num <- seq(1, nrow(names))\n",
    "colnames(names) <- c('name', 'num')\n",
    "\n",
    "# Code dataframe: Name --> GeoCode\n",
    "code_df <- data.frame(wgtn$UID_AU_TA, wgtn$AU_NAME)\n",
    "colnames(code_df) <- c('UID_AU_TA', 'geo_code')"
   ]
  },
  {
   "cell_type": "code",
   "execution_count": 729,
   "metadata": {},
   "outputs": [],
   "source": [
    "df_distance_clean <- labelledPairwiseDistance(df_distance, code_df, names)\n",
    "df_model <- dataForFlowModel(df_distance_clean, df_flow_clean, df_commuter_popn, df_mean_income)"
   ]
  },
  {
   "cell_type": "markdown",
   "metadata": {},
   "source": [
    "## Plotting some flows"
   ]
  },
  {
   "cell_type": "code",
   "execution_count": 730,
   "metadata": {},
   "outputs": [],
   "source": [
    "#use the od2line function from stplanr\n",
    "df_model_sub <- df_model %>% select(Orig_Code, Dest_Code, year_2013) %>% sample_n(20)\n",
    "travel_network <- od2line(flow = df_model_sub,  zones = wgtn)\n",
    "travel_networkwgs <- spTransform(travel_network, nz_grid)\n",
    "\n",
    "#and set the line widths to some sensible value according to the flow\n",
    "w <- df_model_sub$year_2013 / max(df_model_sub$year_2013) * 10"
   ]
  },
  {
   "cell_type": "code",
   "execution_count": 731,
   "metadata": {},
   "outputs": [
    {
     "data": {
      "image/png": "[encoded data removed]",
      "text/plain": [
       "plot without title"
      ]
     },
     "metadata": {},
     "output_type": "display_data"
    }
   ],
   "source": [
    "options(repr.plot.width=5, repr.plot.height=6)\n",
    "plot(travel_networkwgs, lwd = w)\n",
    "plot(wgtn_grid, add=T)"
   ]
  },
  {
   "cell_type": "markdown",
   "metadata": {},
   "source": [
    "# Spatial flow modelling\n"
   ]
  },
  {
   "cell_type": "markdown",
   "metadata": {},
   "source": [
    "$$\n",
    "T_{ij} = k\\frac{P_i P_j}{D_{ij}}\n",
    "$$\n",
    "\n",
    "Additional parameters for the model that take some system variability into account. \n",
    "\n",
    "$$\n",
    "T_{ij} = k\\frac{P^{\\alpha}_i P^{\\lambda}_j}{D^{\\beta}_{ij}}\n",
    "$$\n",
    "\n",
    "Variability is expressed as:\n",
    "\n",
    "Parameter | meaning | explanation \n",
    "--- | --- | ---\n",
    "$\\alpha$ | emissivity | Potential of origin to generate movement\n",
    "$\\lambda$ | attractiveness | Potential of destination to attract movement\n",
    "$\\beta$ | transport frictions | Issues in commuting transport systems"
   ]
  },
  {
   "cell_type": "code",
   "execution_count": 744,
   "metadata": {},
   "outputs": [
    {
     "data": {},
     "metadata": {},
     "output_type": "display_data"
    },
    {
     "data": {
      "image/png": "[encoded data removed]",
      "text/plain": [
       "plot without title"
      ]
     },
     "metadata": {},
     "output_type": "display_data"
    }
   ],
   "source": [
    "options(repr.plot.width=4, repr.plot.height=3)\n",
    "qplot(log(distance), log(year_2013), data=df_model) + geom_smooth(method = lm) + theme_bw()"
   ]
  },
  {
   "cell_type": "markdown",
   "metadata": {},
   "source": [
    "## Poisson GLM"
   ]
  },
  {
   "cell_type": "code",
   "execution_count": 743,
   "metadata": {},
   "outputs": [
    {
     "data": {
      "text/plain": [
       "\n",
       "Call:\n",
       "glm(formula = year_2013 ~ log(commuting_popn) + log(mean_calc_income) + \n",
       "    log(distance), family = poisson(link = \"log\"), data = df_model, \n",
       "    na.action = na.exclude)\n",
       "\n",
       "Deviance Residuals: \n",
       "    Min       1Q   Median       3Q      Max  \n",
       "-13.520   -7.889   -5.739   -2.705   57.993  \n",
       "\n",
       "Coefficients:\n",
       "                       Estimate Std. Error z value Pr(>|z|)    \n",
       "(Intercept)           13.267027   0.240052   55.27   <2e-16 ***\n",
       "log(commuting_popn)    0.476339   0.009074   52.50   <2e-16 ***\n",
       "log(mean_calc_income) -1.008664   0.020937  -48.18   <2e-16 ***\n",
       "log(distance)         -0.210736   0.007455  -28.27   <2e-16 ***\n",
       "---\n",
       "Signif. codes:  0 ‘***’ 0.001 ‘**’ 0.01 ‘*’ 0.05 ‘.’ 0.1 ‘ ’ 1\n",
       "\n",
       "(Dispersion parameter for poisson family taken to be 1)\n",
       "\n",
       "    Null deviance: 75317  on 597  degrees of freedom\n",
       "Residual deviance: 69426  on 594  degrees of freedom\n",
       "AIC: 72377\n",
       "\n",
       "Number of Fisher Scoring iterations: 6\n"
      ]
     },
     "metadata": {},
     "output_type": "display_data"
    }
   ],
   "source": [
    "#run the unconstrained model\n",
    "uncosim <- glm(year_2013 ~ log(commuting_popn) + log(mean_calc_income) + log(distance), \n",
    "               na.action = na.exclude, family = poisson(link = \"log\"), data = df_model)\n",
    "\n",
    "# Add fit to df \n",
    "df_model$fitted <- fitted(uncosim)\n",
    "summary(uncosim)"
   ]
  },
  {
   "cell_type": "code",
   "execution_count": 740,
   "metadata": {},
   "outputs": [
    {
     "data": {
      "text/html": [
       "<table>\n",
       "<thead><tr><th scope=col>from</th><th scope=col>to</th><th scope=col>mean_calc_income</th><th scope=col>year_2013</th><th scope=col>fitted</th></tr></thead>\n",
       "<tbody>\n",
       "\t<tr><td>Johnsonville East      </td><td>Lambton                </td><td>38917.37               </td><td> 132                   </td><td> 31.96957              </td></tr>\n",
       "\t<tr><td>Newlands North         </td><td>Lambton                </td><td>38917.37               </td><td> 312                   </td><td> 51.27917              </td></tr>\n",
       "\t<tr><td>Grenada Village        </td><td>Lambton                </td><td>38917.37               </td><td> 168                   </td><td> 34.81375              </td></tr>\n",
       "\t<tr><td>Mt Victoria West       </td><td>Lambton                </td><td>38917.37               </td><td>1209                   </td><td>122.48224              </td></tr>\n",
       "\t<tr><td>Johnsonville North     </td><td>Lambton                </td><td>38917.37               </td><td> 234                   </td><td> 42.82457              </td></tr>\n",
       "\t<tr><td>Aro Street-Nairn Street</td><td>Lambton                </td><td>38917.37               </td><td> 564                   </td><td> 94.10448              </td></tr>\n",
       "</tbody>\n",
       "</table>\n"
      ],
      "text/latex": [
       "\\begin{tabular}{r|lllll}\n",
       " from & to & mean\\_calc\\_income & year\\_2013 & fitted\\\\\n",
       "\\hline\n",
       "\t Johnsonville East       & Lambton                 & 38917.37                &  132                    &  31.96957              \\\\\n",
       "\t Newlands North          & Lambton                 & 38917.37                &  312                    &  51.27917              \\\\\n",
       "\t Grenada Village         & Lambton                 & 38917.37                &  168                    &  34.81375              \\\\\n",
       "\t Mt Victoria West        & Lambton                 & 38917.37                & 1209                    & 122.48224              \\\\\n",
       "\t Johnsonville North      & Lambton                 & 38917.37                &  234                    &  42.82457              \\\\\n",
       "\t Aro Street-Nairn Street & Lambton                 & 38917.37                &  564                    &  94.10448              \\\\\n",
       "\\end{tabular}\n"
      ],
      "text/markdown": [
       "\n",
       "from | to | mean_calc_income | year_2013 | fitted | \n",
       "|---|---|---|---|---|---|\n",
       "| Johnsonville East       | Lambton                 | 38917.37                |  132                    |  31.96957               | \n",
       "| Newlands North          | Lambton                 | 38917.37                |  312                    |  51.27917               | \n",
       "| Grenada Village         | Lambton                 | 38917.37                |  168                    |  34.81375               | \n",
       "| Mt Victoria West        | Lambton                 | 38917.37                | 1209                    | 122.48224               | \n",
       "| Johnsonville North      | Lambton                 | 38917.37                |  234                    |  42.82457               | \n",
       "| Aro Street-Nairn Street | Lambton                 | 38917.37                |  564                    |  94.10448               | \n",
       "\n",
       "\n"
      ],
      "text/plain": [
       "  from                    to      mean_calc_income year_2013 fitted   \n",
       "1 Johnsonville East       Lambton 38917.37          132       31.96957\n",
       "2 Newlands North          Lambton 38917.37          312       51.27917\n",
       "3 Grenada Village         Lambton 38917.37          168       34.81375\n",
       "4 Mt Victoria West        Lambton 38917.37         1209      122.48224\n",
       "5 Johnsonville North      Lambton 38917.37          234       42.82457\n",
       "6 Aro Street-Nairn Street Lambton 38917.37          564       94.10448"
      ]
     },
     "metadata": {},
     "output_type": "display_data"
    }
   ],
   "source": [
    "df_model %>% filter(to == 'Lambton') %>% select(from, to, mean_calc_income, year_2013, fitted) %>% head()"
   ]
  },
  {
   "cell_type": "code",
   "execution_count": 741,
   "metadata": {},
   "outputs": [
    {
     "data": {
      "text/html": [
       "0.0396335784226522"
      ],
      "text/latex": [
       "0.0396335784226522"
      ],
      "text/markdown": [
       "0.0396335784226522"
      ],
      "text/plain": [
       "[1] 0.03963358"
      ]
     },
     "metadata": {},
     "output_type": "display_data"
    }
   ],
   "source": [
    "CalcRSquared(df_model$year_2013, df_model$fitted)"
   ]
  },
  {
   "cell_type": "markdown",
   "metadata": {},
   "source": [
    "# A better model\n",
    "\n",
    "- The model we've implemented is terrible - it captures none of the variance. That's because:\n",
    "    - The destination importance feature is hopeless.\n",
    "    - There is a large asymmetry in destination importance that the features need to capture. \n",
    "\n",
    "The asymmetry in attractiveness exists most of the offices exist in the downtown part of Wellington. Weekly commutes are thus mostly captured by inflows from all over the Wellington region to a relatively small part of the inner city. One way to possibly capture this as a feature is by aggregating the number of commercial type buildings within a given statistical area. We can get the commercial building data with [this Overpass query](http://overpass-turbo.eu/s/BHN). "
   ]
  },
  {
   "cell_type": "markdown",
   "metadata": {},
   "source": [
    "# Data Issues"
   ]
  },
  {
   "cell_type": "code",
   "execution_count": 742,
   "metadata": {},
   "outputs": [
    {
     "data": {
      "text/html": [
       "<ol class=list-inline>\n",
       "\t<li>'Ngaio South'</li>\n",
       "\t<li>'Khandallah Park-Broadmeadows'</li>\n",
       "\t<li>'Churton Park North'</li>\n",
       "\t<li>'Crofton Downs'</li>\n",
       "\t<li>'Hataitai North'</li>\n",
       "\t<li>'Wilton'</li>\n",
       "\t<li>'Melrose-Houghton Bay-Southgate'</li>\n",
       "\t<li>'Churton Park South'</li>\n",
       "\t<li>'Kilbirnie West-Hataitai South'</li>\n",
       "\t<li>'Willis Street-Cambridge Terrace'</li>\n",
       "\t<li>'Lyall Bay-Airport-Moa Point'</li>\n",
       "\t<li>'Paparangi'</li>\n",
       "\t<li>'Johnsonville Central'</li>\n",
       "\t<li>'Paparangi West'</li>\n",
       "\t<li>'Miramar'</li>\n",
       "\t<li>'Berhampore West'</li>\n",
       "\t<li>'Miramar West'</li>\n",
       "</ol>\n"
      ],
      "text/latex": [
       "\\begin{enumerate*}\n",
       "\\item 'Ngaio South'\n",
       "\\item 'Khandallah Park-Broadmeadows'\n",
       "\\item 'Churton Park North'\n",
       "\\item 'Crofton Downs'\n",
       "\\item 'Hataitai North'\n",
       "\\item 'Wilton'\n",
       "\\item 'Melrose-Houghton Bay-Southgate'\n",
       "\\item 'Churton Park South'\n",
       "\\item 'Kilbirnie West-Hataitai South'\n",
       "\\item 'Willis Street-Cambridge Terrace'\n",
       "\\item 'Lyall Bay-Airport-Moa Point'\n",
       "\\item 'Paparangi'\n",
       "\\item 'Johnsonville Central'\n",
       "\\item 'Paparangi West'\n",
       "\\item 'Miramar'\n",
       "\\item 'Berhampore West'\n",
       "\\item 'Miramar West'\n",
       "\\end{enumerate*}\n"
      ],
      "text/markdown": [
       "1. 'Ngaio South'\n",
       "2. 'Khandallah Park-Broadmeadows'\n",
       "3. 'Churton Park North'\n",
       "4. 'Crofton Downs'\n",
       "5. 'Hataitai North'\n",
       "6. 'Wilton'\n",
       "7. 'Melrose-Houghton Bay-Southgate'\n",
       "8. 'Churton Park South'\n",
       "9. 'Kilbirnie West-Hataitai South'\n",
       "10. 'Willis Street-Cambridge Terrace'\n",
       "11. 'Lyall Bay-Airport-Moa Point'\n",
       "12. 'Paparangi'\n",
       "13. 'Johnsonville Central'\n",
       "14. 'Paparangi West'\n",
       "15. 'Miramar'\n",
       "16. 'Berhampore West'\n",
       "17. 'Miramar West'\n",
       "\n",
       "\n"
      ],
      "text/plain": [
       " [1] \"Ngaio South\"                     \"Khandallah Park-Broadmeadows\"   \n",
       " [3] \"Churton Park North\"              \"Crofton Downs\"                  \n",
       " [5] \"Hataitai North\"                  \"Wilton\"                         \n",
       " [7] \"Melrose-Houghton Bay-Southgate\"  \"Churton Park South\"             \n",
       " [9] \"Kilbirnie West-Hataitai South\"   \"Willis Street-Cambridge Terrace\"\n",
       "[11] \"Lyall Bay-Airport-Moa Point\"     \"Paparangi\"                      \n",
       "[13] \"Johnsonville Central\"            \"Paparangi West\"                 \n",
       "[15] \"Miramar\"                         \"Berhampore West\"                \n",
       "[17] \"Miramar West\"                   "
      ]
     },
     "metadata": {},
     "output_type": "display_data"
    },
    {
     "data": {
      "text/html": [
       "<ol class=list-inline>\n",
       "\t<li>'Johnsonville East'</li>\n",
       "\t<li>'Grenada Village'</li>\n",
       "\t<li>'Johnsonville South'</li>\n",
       "\t<li>'Kingston'</li>\n",
       "\t<li>'Taitville'</li>\n",
       "\t<li>'Mitchelltown'</li>\n",
       "\t<li>'Vogeltown'</li>\n",
       "\t<li>'Horokiwi'</li>\n",
       "\t<li>'Awarua'</li>\n",
       "\t<li>'Rangoon Heights'</li>\n",
       "\t<li>'Glenside North'</li>\n",
       "\t<li>'Newlands East'</li>\n",
       "\t<li>'Hataitai'</li>\n",
       "\t<li>'Willis Street-Cambridge Terrac'</li>\n",
       "\t<li>'Roseneath'</li>\n",
       "\t<li>'Brooklyn South'</li>\n",
       "\t<li>'Melrose'</li>\n",
       "\t<li>'Berhampore'</li>\n",
       "\t<li>'Kilbirnie West'</li>\n",
       "\t<li>'Ngaio'</li>\n",
       "\t<li>'Churton'</li>\n",
       "\t<li>'Karaka Bay-Worser Bay'</li>\n",
       "\t<li>'Karori Park'</li>\n",
       "\t<li>'Takapu'</li>\n",
       "\t<li>'Lyall Bay'</li>\n",
       "\t<li>'Wilton-Otari'</li>\n",
       "\t<li>'Wellington City-Marinas'</li>\n",
       "\t<li>'Khandallah Park'</li>\n",
       "\t<li>'Evans Bay Marina'</li>\n",
       "</ol>\n"
      ],
      "text/latex": [
       "\\begin{enumerate*}\n",
       "\\item 'Johnsonville East'\n",
       "\\item 'Grenada Village'\n",
       "\\item 'Johnsonville South'\n",
       "\\item 'Kingston'\n",
       "\\item 'Taitville'\n",
       "\\item 'Mitchelltown'\n",
       "\\item 'Vogeltown'\n",
       "\\item 'Horokiwi'\n",
       "\\item 'Awarua'\n",
       "\\item 'Rangoon Heights'\n",
       "\\item 'Glenside North'\n",
       "\\item 'Newlands East'\n",
       "\\item 'Hataitai'\n",
       "\\item 'Willis Street-Cambridge Terrac'\n",
       "\\item 'Roseneath'\n",
       "\\item 'Brooklyn South'\n",
       "\\item 'Melrose'\n",
       "\\item 'Berhampore'\n",
       "\\item 'Kilbirnie West'\n",
       "\\item 'Ngaio'\n",
       "\\item 'Churton'\n",
       "\\item 'Karaka Bay-Worser Bay'\n",
       "\\item 'Karori Park'\n",
       "\\item 'Takapu'\n",
       "\\item 'Lyall Bay'\n",
       "\\item 'Wilton-Otari'\n",
       "\\item 'Wellington City-Marinas'\n",
       "\\item 'Khandallah Park'\n",
       "\\item 'Evans Bay Marina'\n",
       "\\end{enumerate*}\n"
      ],
      "text/markdown": [
       "1. 'Johnsonville East'\n",
       "2. 'Grenada Village'\n",
       "3. 'Johnsonville South'\n",
       "4. 'Kingston'\n",
       "5. 'Taitville'\n",
       "6. 'Mitchelltown'\n",
       "7. 'Vogeltown'\n",
       "8. 'Horokiwi'\n",
       "9. 'Awarua'\n",
       "10. 'Rangoon Heights'\n",
       "11. 'Glenside North'\n",
       "12. 'Newlands East'\n",
       "13. 'Hataitai'\n",
       "14. 'Willis Street-Cambridge Terrac'\n",
       "15. 'Roseneath'\n",
       "16. 'Brooklyn South'\n",
       "17. 'Melrose'\n",
       "18. 'Berhampore'\n",
       "19. 'Kilbirnie West'\n",
       "20. 'Ngaio'\n",
       "21. 'Churton'\n",
       "22. 'Karaka Bay-Worser Bay'\n",
       "23. 'Karori Park'\n",
       "24. 'Takapu'\n",
       "25. 'Lyall Bay'\n",
       "26. 'Wilton-Otari'\n",
       "27. 'Wellington City-Marinas'\n",
       "28. 'Khandallah Park'\n",
       "29. 'Evans Bay Marina'\n",
       "\n",
       "\n"
      ],
      "text/plain": [
       " [1] \"Johnsonville East\"              \"Grenada Village\"               \n",
       " [3] \"Johnsonville South\"             \"Kingston\"                      \n",
       " [5] \"Taitville\"                      \"Mitchelltown\"                  \n",
       " [7] \"Vogeltown\"                      \"Horokiwi\"                      \n",
       " [9] \"Awarua\"                         \"Rangoon Heights\"               \n",
       "[11] \"Glenside North\"                 \"Newlands East\"                 \n",
       "[13] \"Hataitai\"                       \"Willis Street-Cambridge Terrac\"\n",
       "[15] \"Roseneath\"                      \"Brooklyn South\"                \n",
       "[17] \"Melrose\"                        \"Berhampore\"                    \n",
       "[19] \"Kilbirnie West\"                 \"Ngaio\"                         \n",
       "[21] \"Churton\"                        \"Karaka Bay-Worser Bay\"         \n",
       "[23] \"Karori Park\"                    \"Takapu\"                        \n",
       "[25] \"Lyall Bay\"                      \"Wilton-Otari\"                  \n",
       "[27] \"Wellington City-Marinas\"        \"Khandallah Park\"               \n",
       "[29] \"Evans Bay Marina\"              "
      ]
     },
     "metadata": {},
     "output_type": "display_data"
    }
   ],
   "source": [
    "names_income_df <- as.character(df_mean_income$statistical_area)\n",
    "names_map <- as.character(wgtn$AU_NAME)\n",
    "\n",
    "setdiff(names_income_df, names_map)\n",
    "setdiff(names_map, names_income_df)"
   ]
  },
  {
   "cell_type": "code",
   "execution_count": null,
   "metadata": {},
   "outputs": [],
   "source": []
  }
 ],
 "metadata": {
  "hide_input": false,
  "kernelspec": {
   "display_name": "R",
   "language": "R",
   "name": "ir"
  },
  "language_info": {
   "codemirror_mode": "r",
   "file_extension": ".r",
   "mimetype": "text/x-r-source",
   "name": "R",
   "pygments_lexer": "r",
   "version": "3.4.4"
  },
  "toc": {
   "base_numbering": 1,
   "nav_menu": {},
   "number_sections": true,
   "sideBar": true,
   "skip_h1_title": false,
   "title_cell": "Table of Contents",
   "title_sidebar": "Contents",
   "toc_cell": false,
   "toc_position": {
    "height": "calc(100% - 180px)",
    "left": "10px",
    "top": "150px",
    "width": "371px"
   },
   "toc_section_display": true,
   "toc_window_display": true
  }
 },
 "nbformat": 4,
 "nbformat_minor": 2
}
